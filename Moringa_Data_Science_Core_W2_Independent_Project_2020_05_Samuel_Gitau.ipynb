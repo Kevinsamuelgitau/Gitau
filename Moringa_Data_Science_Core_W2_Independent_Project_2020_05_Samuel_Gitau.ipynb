{
  "nbformat": 4,
  "nbformat_minor": 0,
  "metadata": {
    "colab": {
      "name": "Moringa_Data_Science_Core_W2_Independent_Project_2020_05_Samuel_Gitau",
      "provenance": [],
      "collapsed_sections": [],
      "toc_visible": true,
      "authorship_tag": "ABX9TyNKsg7YpZqGsqF7aMD/6LOC",
      "include_colab_link": true
    },
    "kernelspec": {
      "name": "python3",
      "display_name": "Python 3"
    }
  },
  "cells": [
    {
      "cell_type": "markdown",
      "metadata": {
        "id": "view-in-github",
        "colab_type": "text"
      },
      "source": [
        "<a href=\"https://colab.research.google.com/github/Kevinsamuelgitau/Gitau/blob/master/Moringa_Data_Science_Core_W2_Independent_Project_2020_05_Samuel_Gitau.ipynb\" target=\"_parent\"><img src=\"https://colab.research.google.com/assets/colab-badge.svg\" alt=\"Open In Colab\"/></a>"
      ]
    },
    {
      "cell_type": "markdown",
      "metadata": {
        "id": "QckAM4AAPhiB",
        "colab_type": "text"
      },
      "source": [
        "# OVERVIEW"
      ]
    },
    {
      "cell_type": "markdown",
      "metadata": {
        "id": "VZW4MqemPo0Q",
        "colab_type": "text"
      },
      "source": [
        "Financial Inclusion remains one of the main obstacles to economic and human development in Africa. For example, across Kenya, Rwanda, Tanzania, and Uganda only 9.1 million adults (or 13.9% of the adult population) have access to or use a commercial bank account.\n",
        "\n",
        "Traditionally, access to bank accounts has been regarded as an indicator of financial inclusion. Despite the proliferation of mobile money in Africa and the growth of innovative fintech solutions, banks still play a pivotal role in facilitating access to financial services. Access to bank accounts enables households to save and facilitate payments while also helping businesses build up their credit-worthiness and improve their access to other financial services. Therefore, access to bank accounts is an essential contributor to long-term economic growth.\n",
        "\n",
        "The research problem is to figure out how we can predict which individuals are most likely to have or use a bank account. Your solution will help provide an indication of the state of financial inclusion in Kenya, Rwanda, Tanzania, and Uganda, while providing insights into some of the key demographic factors that might drive individuals’ financial outcomes.\n",
        "\n",
        "The main dataset contains demographic information and what financial services are used by individuals across East Africa. This data was extracted from various Finscope surveys ranging from 2016 to 2018.\n",
        "\n",
        "Here are the datasets used:\n",
        "Variable Definitions: http://bit.ly/VariableDefinitions (Links to an external site.) \n",
        "Dataset: http://bit.ly/FinancialDataset (Links to an external site.) "
      ]
    },
    {
      "cell_type": "markdown",
      "metadata": {
        "id": "cprz_ubEWqfh",
        "colab_type": "text"
      },
      "source": [
        "# ANALYTIC QUESTION\n",
        "*italicized text*"
      ]
    },
    {
      "cell_type": "markdown",
      "metadata": {
        "id": "3ndsD5zRW4jE",
        "colab_type": "text"
      },
      "source": [
        "1. DATA ANALYTIC QUESTION\n",
        "\n",
        "How can we predict which individuals use a bank account?\n"
      ]
    },
    {
      "cell_type": "markdown",
      "metadata": {
        "id": "PQMYnLzvXepg",
        "colab_type": "text"
      },
      "source": [
        "2. METRICS OF SUCCESS\n",
        "\n"
      ]
    },
    {
      "cell_type": "markdown",
      "metadata": {
        "id": "4ut00j_fXy0h",
        "colab_type": "text"
      },
      "source": [
        "3. CONTEXT\n",
        "\n"
      ]
    },
    {
      "cell_type": "markdown",
      "metadata": {
        "id": "DC5TgvRwX1pf",
        "colab_type": "text"
      },
      "source": [
        "4. EXPERIMENTAL DESIGN"
      ]
    },
    {
      "cell_type": "markdown",
      "metadata": {
        "id": "mXSl50BGYC5v",
        "colab_type": "text"
      },
      "source": [
        "5. DATA RELEVANCE"
      ]
    },
    {
      "cell_type": "markdown",
      "metadata": {
        "id": "Q2MSJvuSYq8c",
        "colab_type": "text"
      },
      "source": [
        "# IMPORTING LIBRARIES\n"
      ]
    },
    {
      "cell_type": "code",
      "metadata": {
        "id": "3Jf4HIQvYxPz",
        "colab_type": "code",
        "colab": {}
      },
      "source": [
        "import pandas as pd\n",
        "import numpy as np\n",
        "import seaborn as sns\n",
        "import matplotlib.pyplot as plt\n"
      ],
      "execution_count": 0,
      "outputs": []
    },
    {
      "cell_type": "markdown",
      "metadata": {
        "id": "tO9iT9UtZkhJ",
        "colab_type": "text"
      },
      "source": [
        "LOADING DATASETS"
      ]
    },
    {
      "cell_type": "code",
      "metadata": {
        "id": "dxhCVIzkZnyh",
        "colab_type": "code",
        "outputId": "7a405e6c-ee38-463d-86f2-a0922cb63651",
        "colab": {
          "base_uri": "https://localhost:8080/",
          "height": 374
        }
      },
      "source": [
        "# Dataset url: : http://bit.ly/FinancialDataset \n",
        "# To load our dataset\n",
        "with open(\"Financial Dataset - 1.csv\",'r')as f:\n",
        "  finances = pd.read_csv(f, encoding= 'utf')\n",
        "# to preview dataset\n",
        "finances.head()"
      ],
      "execution_count": 23,
      "outputs": [
        {
          "output_type": "execute_result",
          "data": {
            "text/html": [
              "<div>\n",
              "<style scoped>\n",
              "    .dataframe tbody tr th:only-of-type {\n",
              "        vertical-align: middle;\n",
              "    }\n",
              "\n",
              "    .dataframe tbody tr th {\n",
              "        vertical-align: top;\n",
              "    }\n",
              "\n",
              "    .dataframe thead th {\n",
              "        text-align: right;\n",
              "    }\n",
              "</style>\n",
              "<table border=\"1\" class=\"dataframe\">\n",
              "  <thead>\n",
              "    <tr style=\"text-align: right;\">\n",
              "      <th></th>\n",
              "      <th>country</th>\n",
              "      <th>year</th>\n",
              "      <th>uniqueid</th>\n",
              "      <th>Has a Bank account</th>\n",
              "      <th>Type of Location</th>\n",
              "      <th>Cell Phone Access</th>\n",
              "      <th>household_size</th>\n",
              "      <th>Respondent Age</th>\n",
              "      <th>gender_of_respondent</th>\n",
              "      <th>The relathip with head</th>\n",
              "      <th>marital_status</th>\n",
              "      <th>Level of Educuation</th>\n",
              "      <th>Type of Job</th>\n",
              "    </tr>\n",
              "  </thead>\n",
              "  <tbody>\n",
              "    <tr>\n",
              "      <th>0</th>\n",
              "      <td>Kenya</td>\n",
              "      <td>2018</td>\n",
              "      <td>uniqueid_1</td>\n",
              "      <td>Yes</td>\n",
              "      <td>Rural</td>\n",
              "      <td>Yes</td>\n",
              "      <td>3.0</td>\n",
              "      <td>24.0</td>\n",
              "      <td>Female</td>\n",
              "      <td>Spouse</td>\n",
              "      <td>Married/Living together</td>\n",
              "      <td>Secondary education</td>\n",
              "      <td>Self employed</td>\n",
              "    </tr>\n",
              "    <tr>\n",
              "      <th>1</th>\n",
              "      <td>Kenya</td>\n",
              "      <td>2018</td>\n",
              "      <td>uniqueid_2</td>\n",
              "      <td>No</td>\n",
              "      <td>Rural</td>\n",
              "      <td>No</td>\n",
              "      <td>5.0</td>\n",
              "      <td>70.0</td>\n",
              "      <td>Female</td>\n",
              "      <td>Head of Household</td>\n",
              "      <td>Widowed</td>\n",
              "      <td>No formal education</td>\n",
              "      <td>Government Dependent</td>\n",
              "    </tr>\n",
              "    <tr>\n",
              "      <th>2</th>\n",
              "      <td>Kenya</td>\n",
              "      <td>2018</td>\n",
              "      <td>uniqueid_3</td>\n",
              "      <td>Yes</td>\n",
              "      <td>Urban</td>\n",
              "      <td>Yes</td>\n",
              "      <td>5.0</td>\n",
              "      <td>26.0</td>\n",
              "      <td>Male</td>\n",
              "      <td>Other relative</td>\n",
              "      <td>Single/Never Married</td>\n",
              "      <td>Vocational/Specialised training</td>\n",
              "      <td>Self employed</td>\n",
              "    </tr>\n",
              "    <tr>\n",
              "      <th>3</th>\n",
              "      <td>Kenya</td>\n",
              "      <td>2018</td>\n",
              "      <td>uniqueid_4</td>\n",
              "      <td>No</td>\n",
              "      <td>Rural</td>\n",
              "      <td>Yes</td>\n",
              "      <td>5.0</td>\n",
              "      <td>34.0</td>\n",
              "      <td>Female</td>\n",
              "      <td>Head of Household</td>\n",
              "      <td>Married/Living together</td>\n",
              "      <td>Primary education</td>\n",
              "      <td>Formally employed Private</td>\n",
              "    </tr>\n",
              "    <tr>\n",
              "      <th>4</th>\n",
              "      <td>Kenya</td>\n",
              "      <td>2018</td>\n",
              "      <td>uniqueid_5</td>\n",
              "      <td>No</td>\n",
              "      <td>Urban</td>\n",
              "      <td>No</td>\n",
              "      <td>8.0</td>\n",
              "      <td>26.0</td>\n",
              "      <td>Male</td>\n",
              "      <td>Child</td>\n",
              "      <td>Single/Never Married</td>\n",
              "      <td>Primary education</td>\n",
              "      <td>Informally employed</td>\n",
              "    </tr>\n",
              "  </tbody>\n",
              "</table>\n",
              "</div>"
            ],
            "text/plain": [
              "  country  year  ...              Level of Educuation                Type of Job\n",
              "0   Kenya  2018  ...              Secondary education              Self employed\n",
              "1   Kenya  2018  ...              No formal education       Government Dependent\n",
              "2   Kenya  2018  ...  Vocational/Specialised training              Self employed\n",
              "3   Kenya  2018  ...                Primary education  Formally employed Private\n",
              "4   Kenya  2018  ...                Primary education        Informally employed\n",
              "\n",
              "[5 rows x 13 columns]"
            ]
          },
          "metadata": {
            "tags": []
          },
          "execution_count": 23
        }
      ]
    },
    {
      "cell_type": "markdown",
      "metadata": {
        "id": "rmB-UDdzaxBN",
        "colab_type": "text"
      },
      "source": [
        "# DATA EXPLORATION"
      ]
    },
    {
      "cell_type": "code",
      "metadata": {
        "id": "QP3em4OibAZ5",
        "colab_type": "code",
        "outputId": "c25710b7-4bb0-45eb-b659-956726e5f2bd",
        "colab": {
          "base_uri": "https://localhost:8080/",
          "height": 35
        }
      },
      "source": [
        "# To check the number of records\n",
        "finances.shape\n"
      ],
      "execution_count": 24,
      "outputs": [
        {
          "output_type": "execute_result",
          "data": {
            "text/plain": [
              "(23524, 13)"
            ]
          },
          "metadata": {
            "tags": []
          },
          "execution_count": 24
        }
      ]
    },
    {
      "cell_type": "code",
      "metadata": {
        "id": "wKRp5EpKbpMN",
        "colab_type": "code",
        "outputId": "0aa1438a-e61c-407c-8bb7-e06807f547f8",
        "colab": {
          "base_uri": "https://localhost:8080/",
          "height": 381
        }
      },
      "source": [
        "# To check datatypes from our data\n",
        "finances.info()"
      ],
      "execution_count": 25,
      "outputs": [
        {
          "output_type": "stream",
          "text": [
            "<class 'pandas.core.frame.DataFrame'>\n",
            "RangeIndex: 23524 entries, 0 to 23523\n",
            "Data columns (total 13 columns):\n",
            " #   Column                  Non-Null Count  Dtype  \n",
            "---  ------                  --------------  -----  \n",
            " 0   country                 23510 non-null  object \n",
            " 1   year                    23524 non-null  int64  \n",
            " 2   uniqueid                23524 non-null  object \n",
            " 3   Has a Bank account      23488 non-null  object \n",
            " 4   Type of Location        23509 non-null  object \n",
            " 5   Cell Phone Access       23513 non-null  object \n",
            " 6   household_size          23496 non-null  float64\n",
            " 7   Respondent Age          23490 non-null  float64\n",
            " 8   gender_of_respondent    23490 non-null  object \n",
            " 9   The relathip with head  23520 non-null  object \n",
            " 10  marital_status          23492 non-null  object \n",
            " 11  Level of Educuation     23495 non-null  object \n",
            " 12  Type of Job             23494 non-null  object \n",
            "dtypes: float64(2), int64(1), object(10)\n",
            "memory usage: 2.3+ MB\n"
          ],
          "name": "stdout"
        }
      ]
    },
    {
      "cell_type": "markdown",
      "metadata": {
        "id": "O-HswYrSqmTZ",
        "colab_type": "text"
      },
      "source": [
        "# EXTERNAL DATA SOURCE VALIDATION"
      ]
    },
    {
      "cell_type": "markdown",
      "metadata": {
        "id": "oajp28y8b_wC",
        "colab_type": "text"
      },
      "source": [
        "# DATA CLEANING"
      ]
    },
    {
      "cell_type": "code",
      "metadata": {
        "id": "H4Yj3V4acEVz",
        "colab_type": "code",
        "outputId": "01b7485d-5528-40c0-f0be-af28bdafa55d",
        "colab": {
          "base_uri": "https://localhost:8080/",
          "height": 339
        }
      },
      "source": [
        "# First, to rename the columns to make analysis easier\n",
        "finances.columns = ['Country','Year','ID', 'Bank account', 'Location','Phone', 'Householdsize', 'Age','Gender', 'Househierachy', 'Status','Educuation', 'Jobtype']\n",
        "# And to preview new column names\n",
        "finances.head()"
      ],
      "execution_count": 26,
      "outputs": [
        {
          "output_type": "execute_result",
          "data": {
            "text/html": [
              "<div>\n",
              "<style scoped>\n",
              "    .dataframe tbody tr th:only-of-type {\n",
              "        vertical-align: middle;\n",
              "    }\n",
              "\n",
              "    .dataframe tbody tr th {\n",
              "        vertical-align: top;\n",
              "    }\n",
              "\n",
              "    .dataframe thead th {\n",
              "        text-align: right;\n",
              "    }\n",
              "</style>\n",
              "<table border=\"1\" class=\"dataframe\">\n",
              "  <thead>\n",
              "    <tr style=\"text-align: right;\">\n",
              "      <th></th>\n",
              "      <th>Country</th>\n",
              "      <th>Year</th>\n",
              "      <th>ID</th>\n",
              "      <th>Bank account</th>\n",
              "      <th>Location</th>\n",
              "      <th>Phone</th>\n",
              "      <th>Householdsize</th>\n",
              "      <th>Age</th>\n",
              "      <th>Gender</th>\n",
              "      <th>Househierachy</th>\n",
              "      <th>Status</th>\n",
              "      <th>Educuation</th>\n",
              "      <th>Jobtype</th>\n",
              "    </tr>\n",
              "  </thead>\n",
              "  <tbody>\n",
              "    <tr>\n",
              "      <th>0</th>\n",
              "      <td>Kenya</td>\n",
              "      <td>2018</td>\n",
              "      <td>uniqueid_1</td>\n",
              "      <td>Yes</td>\n",
              "      <td>Rural</td>\n",
              "      <td>Yes</td>\n",
              "      <td>3.0</td>\n",
              "      <td>24.0</td>\n",
              "      <td>Female</td>\n",
              "      <td>Spouse</td>\n",
              "      <td>Married/Living together</td>\n",
              "      <td>Secondary education</td>\n",
              "      <td>Self employed</td>\n",
              "    </tr>\n",
              "    <tr>\n",
              "      <th>1</th>\n",
              "      <td>Kenya</td>\n",
              "      <td>2018</td>\n",
              "      <td>uniqueid_2</td>\n",
              "      <td>No</td>\n",
              "      <td>Rural</td>\n",
              "      <td>No</td>\n",
              "      <td>5.0</td>\n",
              "      <td>70.0</td>\n",
              "      <td>Female</td>\n",
              "      <td>Head of Household</td>\n",
              "      <td>Widowed</td>\n",
              "      <td>No formal education</td>\n",
              "      <td>Government Dependent</td>\n",
              "    </tr>\n",
              "    <tr>\n",
              "      <th>2</th>\n",
              "      <td>Kenya</td>\n",
              "      <td>2018</td>\n",
              "      <td>uniqueid_3</td>\n",
              "      <td>Yes</td>\n",
              "      <td>Urban</td>\n",
              "      <td>Yes</td>\n",
              "      <td>5.0</td>\n",
              "      <td>26.0</td>\n",
              "      <td>Male</td>\n",
              "      <td>Other relative</td>\n",
              "      <td>Single/Never Married</td>\n",
              "      <td>Vocational/Specialised training</td>\n",
              "      <td>Self employed</td>\n",
              "    </tr>\n",
              "    <tr>\n",
              "      <th>3</th>\n",
              "      <td>Kenya</td>\n",
              "      <td>2018</td>\n",
              "      <td>uniqueid_4</td>\n",
              "      <td>No</td>\n",
              "      <td>Rural</td>\n",
              "      <td>Yes</td>\n",
              "      <td>5.0</td>\n",
              "      <td>34.0</td>\n",
              "      <td>Female</td>\n",
              "      <td>Head of Household</td>\n",
              "      <td>Married/Living together</td>\n",
              "      <td>Primary education</td>\n",
              "      <td>Formally employed Private</td>\n",
              "    </tr>\n",
              "    <tr>\n",
              "      <th>4</th>\n",
              "      <td>Kenya</td>\n",
              "      <td>2018</td>\n",
              "      <td>uniqueid_5</td>\n",
              "      <td>No</td>\n",
              "      <td>Urban</td>\n",
              "      <td>No</td>\n",
              "      <td>8.0</td>\n",
              "      <td>26.0</td>\n",
              "      <td>Male</td>\n",
              "      <td>Child</td>\n",
              "      <td>Single/Never Married</td>\n",
              "      <td>Primary education</td>\n",
              "      <td>Informally employed</td>\n",
              "    </tr>\n",
              "  </tbody>\n",
              "</table>\n",
              "</div>"
            ],
            "text/plain": [
              "  Country  Year  ...                       Educuation                    Jobtype\n",
              "0   Kenya  2018  ...              Secondary education              Self employed\n",
              "1   Kenya  2018  ...              No formal education       Government Dependent\n",
              "2   Kenya  2018  ...  Vocational/Specialised training              Self employed\n",
              "3   Kenya  2018  ...                Primary education  Formally employed Private\n",
              "4   Kenya  2018  ...                Primary education        Informally employed\n",
              "\n",
              "[5 rows x 13 columns]"
            ]
          },
          "metadata": {
            "tags": []
          },
          "execution_count": 26
        }
      ]
    },
    {
      "cell_type": "code",
      "metadata": {
        "id": "zs_WuNDXlFFG",
        "colab_type": "code",
        "outputId": "edb3e7ae-d486-413d-c7b4-5a285dc0663b",
        "colab": {
          "base_uri": "https://localhost:8080/",
          "height": 339
        }
      },
      "source": [
        "#To remove white spaces in our columns\n",
        "finances.columns.str.replace(\" \",\" \")\n",
        "# And make column names uniform\n",
        "finances.columns = finances.columns.str.strip().str.upper()\n",
        "finances['COUNTRY'] = finances['COUNTRY'].str.replace(' ',' ').str.lower()\n",
        "finances['ID'] = finances['ID'].str.replace(' ',' ').str.lower()\n",
        "finances['BANK ACCOUNT'] = finances['BANK ACCOUNT'].str.replace(' ',' ').str.lower()\n",
        "finances['LOCATION']= finances['LOCATION'].str.replace(' ',' ').str.lower()\n",
        "finances['PHONE'] = finances['PHONE'].str.replace(' ',' ').str.lower()\n",
        "finances['GENDER']= finances['GENDER'].str.replace(' ',' ').str.lower()\n",
        "finances['HOUSEHIERACHY'] = finances['HOUSEHIERACHY'].str.replace(' ',' ').str.lower() \n",
        "finances['STATUS'] = finances['STATUS'].str.replace(' ',' ').str.lower() \n",
        "finances['EDUCUATION'] = finances['EDUCUATION'].str.replace(' ',' ').str.lower() \n",
        "finances['JOBTYPE'] = finances['JOBTYPE'].str.replace(' ',' ').str.lower() \n",
        "finances.head()"
      ],
      "execution_count": 27,
      "outputs": [
        {
          "output_type": "execute_result",
          "data": {
            "text/html": [
              "<div>\n",
              "<style scoped>\n",
              "    .dataframe tbody tr th:only-of-type {\n",
              "        vertical-align: middle;\n",
              "    }\n",
              "\n",
              "    .dataframe tbody tr th {\n",
              "        vertical-align: top;\n",
              "    }\n",
              "\n",
              "    .dataframe thead th {\n",
              "        text-align: right;\n",
              "    }\n",
              "</style>\n",
              "<table border=\"1\" class=\"dataframe\">\n",
              "  <thead>\n",
              "    <tr style=\"text-align: right;\">\n",
              "      <th></th>\n",
              "      <th>COUNTRY</th>\n",
              "      <th>YEAR</th>\n",
              "      <th>ID</th>\n",
              "      <th>BANK ACCOUNT</th>\n",
              "      <th>LOCATION</th>\n",
              "      <th>PHONE</th>\n",
              "      <th>HOUSEHOLDSIZE</th>\n",
              "      <th>AGE</th>\n",
              "      <th>GENDER</th>\n",
              "      <th>HOUSEHIERACHY</th>\n",
              "      <th>STATUS</th>\n",
              "      <th>EDUCUATION</th>\n",
              "      <th>JOBTYPE</th>\n",
              "    </tr>\n",
              "  </thead>\n",
              "  <tbody>\n",
              "    <tr>\n",
              "      <th>0</th>\n",
              "      <td>kenya</td>\n",
              "      <td>2018</td>\n",
              "      <td>uniqueid_1</td>\n",
              "      <td>yes</td>\n",
              "      <td>rural</td>\n",
              "      <td>yes</td>\n",
              "      <td>3.0</td>\n",
              "      <td>24.0</td>\n",
              "      <td>female</td>\n",
              "      <td>spouse</td>\n",
              "      <td>married/living together</td>\n",
              "      <td>secondary education</td>\n",
              "      <td>self employed</td>\n",
              "    </tr>\n",
              "    <tr>\n",
              "      <th>1</th>\n",
              "      <td>kenya</td>\n",
              "      <td>2018</td>\n",
              "      <td>uniqueid_2</td>\n",
              "      <td>no</td>\n",
              "      <td>rural</td>\n",
              "      <td>no</td>\n",
              "      <td>5.0</td>\n",
              "      <td>70.0</td>\n",
              "      <td>female</td>\n",
              "      <td>head of household</td>\n",
              "      <td>widowed</td>\n",
              "      <td>no formal education</td>\n",
              "      <td>government dependent</td>\n",
              "    </tr>\n",
              "    <tr>\n",
              "      <th>2</th>\n",
              "      <td>kenya</td>\n",
              "      <td>2018</td>\n",
              "      <td>uniqueid_3</td>\n",
              "      <td>yes</td>\n",
              "      <td>urban</td>\n",
              "      <td>yes</td>\n",
              "      <td>5.0</td>\n",
              "      <td>26.0</td>\n",
              "      <td>male</td>\n",
              "      <td>other relative</td>\n",
              "      <td>single/never married</td>\n",
              "      <td>vocational/specialised training</td>\n",
              "      <td>self employed</td>\n",
              "    </tr>\n",
              "    <tr>\n",
              "      <th>3</th>\n",
              "      <td>kenya</td>\n",
              "      <td>2018</td>\n",
              "      <td>uniqueid_4</td>\n",
              "      <td>no</td>\n",
              "      <td>rural</td>\n",
              "      <td>yes</td>\n",
              "      <td>5.0</td>\n",
              "      <td>34.0</td>\n",
              "      <td>female</td>\n",
              "      <td>head of household</td>\n",
              "      <td>married/living together</td>\n",
              "      <td>primary education</td>\n",
              "      <td>formally employed private</td>\n",
              "    </tr>\n",
              "    <tr>\n",
              "      <th>4</th>\n",
              "      <td>kenya</td>\n",
              "      <td>2018</td>\n",
              "      <td>uniqueid_5</td>\n",
              "      <td>no</td>\n",
              "      <td>urban</td>\n",
              "      <td>no</td>\n",
              "      <td>8.0</td>\n",
              "      <td>26.0</td>\n",
              "      <td>male</td>\n",
              "      <td>child</td>\n",
              "      <td>single/never married</td>\n",
              "      <td>primary education</td>\n",
              "      <td>informally employed</td>\n",
              "    </tr>\n",
              "  </tbody>\n",
              "</table>\n",
              "</div>"
            ],
            "text/plain": [
              "  COUNTRY  YEAR  ...                       EDUCUATION                    JOBTYPE\n",
              "0   kenya  2018  ...              secondary education              self employed\n",
              "1   kenya  2018  ...              no formal education       government dependent\n",
              "2   kenya  2018  ...  vocational/specialised training              self employed\n",
              "3   kenya  2018  ...                primary education  formally employed private\n",
              "4   kenya  2018  ...                primary education        informally employed\n",
              "\n",
              "[5 rows x 13 columns]"
            ]
          },
          "metadata": {
            "tags": []
          },
          "execution_count": 27
        }
      ]
    },
    {
      "cell_type": "code",
      "metadata": {
        "id": "cpf7KxA4l9qf",
        "colab_type": "code",
        "colab": {}
      },
      "source": [
        "#Dropping columns that we don't need in analysis\n",
        "\n",
        "finances.drop('ID',axis=1,inplace= True)\n"
      ],
      "execution_count": 0,
      "outputs": []
    },
    {
      "cell_type": "code",
      "metadata": {
        "id": "SItT6G5lmHPD",
        "colab_type": "code",
        "outputId": "5ebacbc7-263b-4856-b118-4cf7bfd1798a",
        "colab": {
          "base_uri": "https://localhost:8080/",
          "height": 801
        }
      },
      "source": [
        "# To check for outliers in categorical variables through boxplots\n",
        "fig, (ax1, ax2,ax3) = plt.subplots(3,1, figsize=(10,12))\n",
        "\n",
        "fig.suptitle('BOXPLOTS')\n",
        "\n",
        "sns.boxplot(finances['YEAR'], ax= ax1, orient = 'h')\n",
        "sns.boxplot(finances['AGE'],ax = ax2, orient = 'h')\n",
        "sns.boxplot(finances['HOUSEHOLDSIZE'], ax = ax3, orient = 'h')\n",
        "plt.show()"
      ],
      "execution_count": 29,
      "outputs": [
        {
          "output_type": "display_data",
          "data": {
            "image/png": "[encoded data removed]",
            "text/plain": [
              "<Figure size 720x864 with 3 Axes>"
            ]
          },
          "metadata": {
            "tags": [],
            "needs_background": "light"
          }
        }
      ]
    },
    {
      "cell_type": "code",
      "metadata": {
        "id": "ta8PneDQmiFP",
        "colab_type": "code",
        "outputId": "3b8360fa-2250-4435-ccdb-5a64f7247645",
        "colab": {
          "base_uri": "https://localhost:8080/",
          "height": 35
        }
      },
      "source": [
        "# To remove outliers\n",
        "finances = finances[finances['YEAR'] <= 2018]\n",
        "finances['YEAR'].unique()"
      ],
      "execution_count": 30,
      "outputs": [
        {
          "output_type": "execute_result",
          "data": {
            "text/plain": [
              "array([2018, 2016, 2017])"
            ]
          },
          "metadata": {
            "tags": []
          },
          "execution_count": 30
        }
      ]
    },
    {
      "cell_type": "code",
      "metadata": {
        "id": "_rWEuJ7Hm4ib",
        "colab_type": "code",
        "outputId": "47f1b2ac-465b-4549-8c04-2158643c63c6",
        "colab": {
          "base_uri": "https://localhost:8080/",
          "height": 254
        }
      },
      "source": [
        "# To check for missing numerical data\n",
        "\n",
        "finances.isnull().sum()"
      ],
      "execution_count": 31,
      "outputs": [
        {
          "output_type": "execute_result",
          "data": {
            "text/plain": [
              "COUNTRY          14\n",
              "YEAR              0\n",
              "BANK ACCOUNT     36\n",
              "LOCATION         15\n",
              "PHONE            11\n",
              "HOUSEHOLDSIZE    28\n",
              "AGE              34\n",
              "GENDER           34\n",
              "HOUSEHIERACHY     4\n",
              "STATUS           32\n",
              "EDUCUATION       29\n",
              "JOBTYPE          30\n",
              "dtype: int64"
            ]
          },
          "metadata": {
            "tags": []
          },
          "execution_count": 31
        }
      ]
    },
    {
      "cell_type": "code",
      "metadata": {
        "id": "qMbkbOqJnG8O",
        "colab_type": "code",
        "outputId": "9f43e58f-ca13-4904-8096-7eb604cf6b47",
        "colab": {
          "base_uri": "https://localhost:8080/",
          "height": 363
        }
      },
      "source": [
        "# And removing missing data\n",
        "\n",
        "\n",
        "finances.dropna(axis=0, how = 'any', inplace = True)\n",
        "finances.info()"
      ],
      "execution_count": 32,
      "outputs": [
        {
          "output_type": "stream",
          "text": [
            "<class 'pandas.core.frame.DataFrame'>\n",
            "Int64Index: 23340 entries, 0 to 23523\n",
            "Data columns (total 12 columns):\n",
            " #   Column         Non-Null Count  Dtype  \n",
            "---  ------         --------------  -----  \n",
            " 0   COUNTRY        23340 non-null  object \n",
            " 1   YEAR           23340 non-null  int64  \n",
            " 2   BANK ACCOUNT   23340 non-null  object \n",
            " 3   LOCATION       23340 non-null  object \n",
            " 4   PHONE          23340 non-null  object \n",
            " 5   HOUSEHOLDSIZE  23340 non-null  float64\n",
            " 6   AGE            23340 non-null  float64\n",
            " 7   GENDER         23340 non-null  object \n",
            " 8   HOUSEHIERACHY  23340 non-null  object \n",
            " 9   STATUS         23340 non-null  object \n",
            " 10  EDUCUATION     23340 non-null  object \n",
            " 11  JOBTYPE        23340 non-null  object \n",
            "dtypes: float64(2), int64(1), object(9)\n",
            "memory usage: 2.3+ MB\n"
          ],
          "name": "stdout"
        }
      ]
    },
    {
      "cell_type": "code",
      "metadata": {
        "id": "6z0285WynRbR",
        "colab_type": "code",
        "outputId": "1a093fec-0a22-48ed-c690-983e99e6b0ab",
        "colab": {
          "base_uri": "https://localhost:8080/",
          "height": 288
        }
      },
      "source": [
        "# To confirm there are no anomalies left\n",
        "finances.describe()\n"
      ],
      "execution_count": 33,
      "outputs": [
        {
          "output_type": "execute_result",
          "data": {
            "text/html": [
              "<div>\n",
              "<style scoped>\n",
              "    .dataframe tbody tr th:only-of-type {\n",
              "        vertical-align: middle;\n",
              "    }\n",
              "\n",
              "    .dataframe tbody tr th {\n",
              "        vertical-align: top;\n",
              "    }\n",
              "\n",
              "    .dataframe thead th {\n",
              "        text-align: right;\n",
              "    }\n",
              "</style>\n",
              "<table border=\"1\" class=\"dataframe\">\n",
              "  <thead>\n",
              "    <tr style=\"text-align: right;\">\n",
              "      <th></th>\n",
              "      <th>YEAR</th>\n",
              "      <th>HOUSEHOLDSIZE</th>\n",
              "      <th>AGE</th>\n",
              "    </tr>\n",
              "  </thead>\n",
              "  <tbody>\n",
              "    <tr>\n",
              "      <th>count</th>\n",
              "      <td>23340.000000</td>\n",
              "      <td>23340.000000</td>\n",
              "      <td>23340.000000</td>\n",
              "    </tr>\n",
              "    <tr>\n",
              "      <th>mean</th>\n",
              "      <td>2016.977464</td>\n",
              "      <td>3.688560</td>\n",
              "      <td>38.807069</td>\n",
              "    </tr>\n",
              "    <tr>\n",
              "      <th>std</th>\n",
              "      <td>0.849136</td>\n",
              "      <td>2.281275</td>\n",
              "      <td>16.519905</td>\n",
              "    </tr>\n",
              "    <tr>\n",
              "      <th>min</th>\n",
              "      <td>2016.000000</td>\n",
              "      <td>0.000000</td>\n",
              "      <td>16.000000</td>\n",
              "    </tr>\n",
              "    <tr>\n",
              "      <th>25%</th>\n",
              "      <td>2016.000000</td>\n",
              "      <td>2.000000</td>\n",
              "      <td>26.000000</td>\n",
              "    </tr>\n",
              "    <tr>\n",
              "      <th>50%</th>\n",
              "      <td>2017.000000</td>\n",
              "      <td>3.000000</td>\n",
              "      <td>35.000000</td>\n",
              "    </tr>\n",
              "    <tr>\n",
              "      <th>75%</th>\n",
              "      <td>2018.000000</td>\n",
              "      <td>5.000000</td>\n",
              "      <td>49.000000</td>\n",
              "    </tr>\n",
              "    <tr>\n",
              "      <th>max</th>\n",
              "      <td>2018.000000</td>\n",
              "      <td>21.000000</td>\n",
              "      <td>100.000000</td>\n",
              "    </tr>\n",
              "  </tbody>\n",
              "</table>\n",
              "</div>"
            ],
            "text/plain": [
              "               YEAR  HOUSEHOLDSIZE           AGE\n",
              "count  23340.000000   23340.000000  23340.000000\n",
              "mean    2016.977464       3.688560     38.807069\n",
              "std        0.849136       2.281275     16.519905\n",
              "min     2016.000000       0.000000     16.000000\n",
              "25%     2016.000000       2.000000     26.000000\n",
              "50%     2017.000000       3.000000     35.000000\n",
              "75%     2018.000000       5.000000     49.000000\n",
              "max     2018.000000      21.000000    100.000000"
            ]
          },
          "metadata": {
            "tags": []
          },
          "execution_count": 33
        }
      ]
    },
    {
      "cell_type": "code",
      "metadata": {
        "id": "mlmIN1vYvMwo",
        "colab_type": "code",
        "outputId": "d76715c8-dc79-4b03-d956-5124e917118a",
        "colab": {
          "base_uri": "https://localhost:8080/",
          "height": 319
        }
      },
      "source": [
        "finances.head()"
      ],
      "execution_count": 34,
      "outputs": [
        {
          "output_type": "execute_result",
          "data": {
            "text/html": [
              "<div>\n",
              "<style scoped>\n",
              "    .dataframe tbody tr th:only-of-type {\n",
              "        vertical-align: middle;\n",
              "    }\n",
              "\n",
              "    .dataframe tbody tr th {\n",
              "        vertical-align: top;\n",
              "    }\n",
              "\n",
              "    .dataframe thead th {\n",
              "        text-align: right;\n",
              "    }\n",
              "</style>\n",
              "<table border=\"1\" class=\"dataframe\">\n",
              "  <thead>\n",
              "    <tr style=\"text-align: right;\">\n",
              "      <th></th>\n",
              "      <th>COUNTRY</th>\n",
              "      <th>YEAR</th>\n",
              "      <th>BANK ACCOUNT</th>\n",
              "      <th>LOCATION</th>\n",
              "      <th>PHONE</th>\n",
              "      <th>HOUSEHOLDSIZE</th>\n",
              "      <th>AGE</th>\n",
              "      <th>GENDER</th>\n",
              "      <th>HOUSEHIERACHY</th>\n",
              "      <th>STATUS</th>\n",
              "      <th>EDUCUATION</th>\n",
              "      <th>JOBTYPE</th>\n",
              "    </tr>\n",
              "  </thead>\n",
              "  <tbody>\n",
              "    <tr>\n",
              "      <th>0</th>\n",
              "      <td>kenya</td>\n",
              "      <td>2018</td>\n",
              "      <td>yes</td>\n",
              "      <td>rural</td>\n",
              "      <td>yes</td>\n",
              "      <td>3.0</td>\n",
              "      <td>24.0</td>\n",
              "      <td>female</td>\n",
              "      <td>spouse</td>\n",
              "      <td>married/living together</td>\n",
              "      <td>secondary education</td>\n",
              "      <td>self employed</td>\n",
              "    </tr>\n",
              "    <tr>\n",
              "      <th>1</th>\n",
              "      <td>kenya</td>\n",
              "      <td>2018</td>\n",
              "      <td>no</td>\n",
              "      <td>rural</td>\n",
              "      <td>no</td>\n",
              "      <td>5.0</td>\n",
              "      <td>70.0</td>\n",
              "      <td>female</td>\n",
              "      <td>head of household</td>\n",
              "      <td>widowed</td>\n",
              "      <td>no formal education</td>\n",
              "      <td>government dependent</td>\n",
              "    </tr>\n",
              "    <tr>\n",
              "      <th>2</th>\n",
              "      <td>kenya</td>\n",
              "      <td>2018</td>\n",
              "      <td>yes</td>\n",
              "      <td>urban</td>\n",
              "      <td>yes</td>\n",
              "      <td>5.0</td>\n",
              "      <td>26.0</td>\n",
              "      <td>male</td>\n",
              "      <td>other relative</td>\n",
              "      <td>single/never married</td>\n",
              "      <td>vocational/specialised training</td>\n",
              "      <td>self employed</td>\n",
              "    </tr>\n",
              "    <tr>\n",
              "      <th>3</th>\n",
              "      <td>kenya</td>\n",
              "      <td>2018</td>\n",
              "      <td>no</td>\n",
              "      <td>rural</td>\n",
              "      <td>yes</td>\n",
              "      <td>5.0</td>\n",
              "      <td>34.0</td>\n",
              "      <td>female</td>\n",
              "      <td>head of household</td>\n",
              "      <td>married/living together</td>\n",
              "      <td>primary education</td>\n",
              "      <td>formally employed private</td>\n",
              "    </tr>\n",
              "    <tr>\n",
              "      <th>4</th>\n",
              "      <td>kenya</td>\n",
              "      <td>2018</td>\n",
              "      <td>no</td>\n",
              "      <td>urban</td>\n",
              "      <td>no</td>\n",
              "      <td>8.0</td>\n",
              "      <td>26.0</td>\n",
              "      <td>male</td>\n",
              "      <td>child</td>\n",
              "      <td>single/never married</td>\n",
              "      <td>primary education</td>\n",
              "      <td>informally employed</td>\n",
              "    </tr>\n",
              "  </tbody>\n",
              "</table>\n",
              "</div>"
            ],
            "text/plain": [
              "  COUNTRY  YEAR  ...                       EDUCUATION                    JOBTYPE\n",
              "0   kenya  2018  ...              secondary education              self employed\n",
              "1   kenya  2018  ...              no formal education       government dependent\n",
              "2   kenya  2018  ...  vocational/specialised training              self employed\n",
              "3   kenya  2018  ...                primary education  formally employed private\n",
              "4   kenya  2018  ...                primary education        informally employed\n",
              "\n",
              "[5 rows x 12 columns]"
            ]
          },
          "metadata": {
            "tags": []
          },
          "execution_count": 34
        }
      ]
    },
    {
      "cell_type": "markdown",
      "metadata": {
        "id": "AfzPFK4kojGg",
        "colab_type": "text"
      },
      "source": [
        "# EXPLORATORY DATA ANALYSIS"
      ]
    },
    {
      "cell_type": "markdown",
      "metadata": {
        "id": "-YtQ4jZGr-6g",
        "colab_type": "text"
      },
      "source": [
        "UNIVARIATE ANALYSIS"
      ]
    },
    {
      "cell_type": "code",
      "metadata": {
        "id": "hdAmo7NZsDFj",
        "colab_type": "code",
        "outputId": "bf872a07-62ba-45fd-9706-3c98c8863f5d",
        "colab": {
          "base_uri": "https://localhost:8080/",
          "height": 619
        }
      },
      "source": [
        "# To plot the univariate summaries \n",
        "columns = ['YEAR', 'HOUSEHOLDSIZE', 'AGE']\n",
        "\n",
        "fig, ax = plt.subplots(len(columns), figsize=(8,10))\n",
        "\n",
        "for i, col_val in enumerate(columns):\n",
        "  sns.distplot(finances[col_val], hist=True, ax=ax[i], color='blue')\n",
        "  ax[i].set_title('Frequency Dist' + col_val, fontsize=10)\n",
        "  ax[i].set_xlabel(col_val, fontsize=8)\n",
        "  ax[i].set_ylabel(col_val, fontsize=8)\n",
        "\n",
        "plt.show()"
      ],
      "execution_count": 35,
      "outputs": [
        {
          "output_type": "display_data",
          "data": {
            "image/png": "[encoded data removed]",
            "text/plain": [
              "<Figure size 576x720 with 3 Axes>"
            ]
          },
          "metadata": {
            "tags": [],
            "needs_background": "light"
          }
        }
      ]
    },
    {
      "cell_type": "code",
      "metadata": {
        "id": "38SOVAVtv1iv",
        "colab_type": "code",
        "outputId": "b5286096-4af4-4c7f-dce8-c2981aea425b",
        "colab": {
          "base_uri": "https://localhost:8080/",
          "height": 348
        }
      },
      "source": [
        "# measure of central tendancy for categorical data\n",
        "finances_mode =finances[['COUNTRY', 'YEAR', 'BANK ACCOUNT', 'LOCATION', 'PHONE', 'GENDER', 'HOUSEHIERACHY', 'STATUS','EDUCUATION', 'JOBTYPE']].mode()\n",
        "finances_mode.T"
      ],
      "execution_count": 36,
      "outputs": [
        {
          "output_type": "execute_result",
          "data": {
            "text/html": [
              "<div>\n",
              "<style scoped>\n",
              "    .dataframe tbody tr th:only-of-type {\n",
              "        vertical-align: middle;\n",
              "    }\n",
              "\n",
              "    .dataframe tbody tr th {\n",
              "        vertical-align: top;\n",
              "    }\n",
              "\n",
              "    .dataframe thead th {\n",
              "        text-align: right;\n",
              "    }\n",
              "</style>\n",
              "<table border=\"1\" class=\"dataframe\">\n",
              "  <thead>\n",
              "    <tr style=\"text-align: right;\">\n",
              "      <th></th>\n",
              "      <th>0</th>\n",
              "    </tr>\n",
              "  </thead>\n",
              "  <tbody>\n",
              "    <tr>\n",
              "      <th>COUNTRY</th>\n",
              "      <td>rwanda</td>\n",
              "    </tr>\n",
              "    <tr>\n",
              "      <th>YEAR</th>\n",
              "      <td>2016</td>\n",
              "    </tr>\n",
              "    <tr>\n",
              "      <th>BANK ACCOUNT</th>\n",
              "      <td>no</td>\n",
              "    </tr>\n",
              "    <tr>\n",
              "      <th>LOCATION</th>\n",
              "      <td>rural</td>\n",
              "    </tr>\n",
              "    <tr>\n",
              "      <th>PHONE</th>\n",
              "      <td>yes</td>\n",
              "    </tr>\n",
              "    <tr>\n",
              "      <th>GENDER</th>\n",
              "      <td>female</td>\n",
              "    </tr>\n",
              "    <tr>\n",
              "      <th>HOUSEHIERACHY</th>\n",
              "      <td>head of household</td>\n",
              "    </tr>\n",
              "    <tr>\n",
              "      <th>STATUS</th>\n",
              "      <td>married/living together</td>\n",
              "    </tr>\n",
              "    <tr>\n",
              "      <th>EDUCUATION</th>\n",
              "      <td>primary education</td>\n",
              "    </tr>\n",
              "    <tr>\n",
              "      <th>JOBTYPE</th>\n",
              "      <td>self employed</td>\n",
              "    </tr>\n",
              "  </tbody>\n",
              "</table>\n",
              "</div>"
            ],
            "text/plain": [
              "                                     0\n",
              "COUNTRY                         rwanda\n",
              "YEAR                              2016\n",
              "BANK ACCOUNT                        no\n",
              "LOCATION                         rural\n",
              "PHONE                              yes\n",
              "GENDER                          female\n",
              "HOUSEHIERACHY        head of household\n",
              "STATUS         married/living together\n",
              "EDUCUATION           primary education\n",
              "JOBTYPE                  self employed"
            ]
          },
          "metadata": {
            "tags": []
          },
          "execution_count": 36
        }
      ]
    },
    {
      "cell_type": "code",
      "metadata": {
        "id": "zf8UMqDswZYz",
        "colab_type": "code",
        "outputId": "6047fa91-3315-45e5-dae0-79696793e3ed",
        "colab": {
          "base_uri": "https://localhost:8080/",
          "height": 288
        }
      },
      "source": [
        "# measure of Central Tendancy for numerical data\n",
        "finances.describe()\n",
        "# 25% is the first quatile\n",
        "# 50% is the median\n",
        "# 75% is the third quatile\n",
        "# std is the standard deviation"
      ],
      "execution_count": 37,
      "outputs": [
        {
          "output_type": "execute_result",
          "data": {
            "text/html": [
              "<div>\n",
              "<style scoped>\n",
              "    .dataframe tbody tr th:only-of-type {\n",
              "        vertical-align: middle;\n",
              "    }\n",
              "\n",
              "    .dataframe tbody tr th {\n",
              "        vertical-align: top;\n",
              "    }\n",
              "\n",
              "    .dataframe thead th {\n",
              "        text-align: right;\n",
              "    }\n",
              "</style>\n",
              "<table border=\"1\" class=\"dataframe\">\n",
              "  <thead>\n",
              "    <tr style=\"text-align: right;\">\n",
              "      <th></th>\n",
              "      <th>YEAR</th>\n",
              "      <th>HOUSEHOLDSIZE</th>\n",
              "      <th>AGE</th>\n",
              "    </tr>\n",
              "  </thead>\n",
              "  <tbody>\n",
              "    <tr>\n",
              "      <th>count</th>\n",
              "      <td>23340.000000</td>\n",
              "      <td>23340.000000</td>\n",
              "      <td>23340.000000</td>\n",
              "    </tr>\n",
              "    <tr>\n",
              "      <th>mean</th>\n",
              "      <td>2016.977464</td>\n",
              "      <td>3.688560</td>\n",
              "      <td>38.807069</td>\n",
              "    </tr>\n",
              "    <tr>\n",
              "      <th>std</th>\n",
              "      <td>0.849136</td>\n",
              "      <td>2.281275</td>\n",
              "      <td>16.519905</td>\n",
              "    </tr>\n",
              "    <tr>\n",
              "      <th>min</th>\n",
              "      <td>2016.000000</td>\n",
              "      <td>0.000000</td>\n",
              "      <td>16.000000</td>\n",
              "    </tr>\n",
              "    <tr>\n",
              "      <th>25%</th>\n",
              "      <td>2016.000000</td>\n",
              "      <td>2.000000</td>\n",
              "      <td>26.000000</td>\n",
              "    </tr>\n",
              "    <tr>\n",
              "      <th>50%</th>\n",
              "      <td>2017.000000</td>\n",
              "      <td>3.000000</td>\n",
              "      <td>35.000000</td>\n",
              "    </tr>\n",
              "    <tr>\n",
              "      <th>75%</th>\n",
              "      <td>2018.000000</td>\n",
              "      <td>5.000000</td>\n",
              "      <td>49.000000</td>\n",
              "    </tr>\n",
              "    <tr>\n",
              "      <th>max</th>\n",
              "      <td>2018.000000</td>\n",
              "      <td>21.000000</td>\n",
              "      <td>100.000000</td>\n",
              "    </tr>\n",
              "  </tbody>\n",
              "</table>\n",
              "</div>"
            ],
            "text/plain": [
              "               YEAR  HOUSEHOLDSIZE           AGE\n",
              "count  23340.000000   23340.000000  23340.000000\n",
              "mean    2016.977464       3.688560     38.807069\n",
              "std        0.849136       2.281275     16.519905\n",
              "min     2016.000000       0.000000     16.000000\n",
              "25%     2016.000000       2.000000     26.000000\n",
              "50%     2017.000000       3.000000     35.000000\n",
              "75%     2018.000000       5.000000     49.000000\n",
              "max     2018.000000      21.000000    100.000000"
            ]
          },
          "metadata": {
            "tags": []
          },
          "execution_count": 37
        }
      ]
    },
    {
      "cell_type": "code",
      "metadata": {
        "id": "TLhs-cVRwhpU",
        "colab_type": "code",
        "colab": {
          "base_uri": "https://localhost:8080/",
          "height": 126
        },
        "outputId": "d369db00-7a1e-4825-853a-04369019300f"
      },
      "source": [
        "# interquartile age range\n",
        "q1_AGE,q3_AGE = np.percentile(finances['AGE'],[25,75])\n",
        "iqr_AGE = q3_AGE - q1_AGE\n",
        "print('THE AGE INTERQUATILE RANGE IS',iqr_AGE)\n",
        "# confidence interval\n",
        "l_bound_AGE = q1_AGE - (1.5*iqr_AGE)\n",
        "u_bound_AGE = q3_AGE + (1.5*iqr_AGE)\n",
        "print('Confidence interval is =',u_bound_AGE,'--',l_bound_AGE )\n",
        "print('\\n')\n",
        "\n",
        "# interquartile range householdsize\n",
        "q1_HOUSEHOLDSIZE,q3_HOUSEHOLDSIZE = np.percentile(finances['HOUSEHOLDSIZE'],[25,75])\n",
        "iqr_HOUSEHOLDSIZE = q3_HOUSEHOLDSIZE - q1_HOUSEHOLDSIZE\n",
        "print('THE HOUSEHOLDSIZE INTERQUATILE RANGE IS',iqr_HOUSEHOLDSIZE)\n",
        "# confidence interval\n",
        "l_bound_HOUSEHOLDSIZE = q1_HOUSEHOLDSIZE - (1.5*iqr_HOUSEHOLDSIZE)\n",
        "u_bound_HOUSEHOLDSIZE = q3_HOUSEHOLDSIZE + (1.5*iqr_HOUSEHOLDSIZE)\n",
        "print('Confidence interval is =',u_bound_HOUSEHOLDSIZE,'--',l_bound_HOUSEHOLDSIZE)"
      ],
      "execution_count": 39,
      "outputs": [
        {
          "output_type": "stream",
          "text": [
            "THE AGE INTERQUATILE RANGE IS 23.0\n",
            "Confidence interval is = 83.5 -- -8.5\n",
            "\n",
            "\n",
            "THE HOUSEHOLDSIZE INTERQUATILE RANGE IS 3.0\n",
            "Confidence interval is = 9.5 -- -2.5\n"
          ],
          "name": "stdout"
        }
      ]
    },
    {
      "cell_type": "code",
      "metadata": {
        "id": "m81zMXLyxv_Y",
        "colab_type": "code",
        "outputId": "e6eeea3d-a311-4222-c218-0d1d819a6d75",
        "colab": {
          "base_uri": "https://localhost:8080/",
          "height": 35
        }
      },
      "source": [
        "# to find range\n",
        "print(\"HOUSEHOLDSIZE RANGE IS =\",finances['HOUSEHOLDSIZE'].max()-finances['HOUSEHOLDSIZE'].min())"
      ],
      "execution_count": 40,
      "outputs": [
        {
          "output_type": "stream",
          "text": [
            "HOUSEHOLDSIZE RANGE IS = 21.0\n"
          ],
          "name": "stdout"
        }
      ]
    },
    {
      "cell_type": "code",
      "metadata": {
        "id": "jVJUxZ3eyI59",
        "colab_type": "code",
        "outputId": "cbe6311e-c44f-4755-abc2-389707e9b8d7",
        "colab": {
          "base_uri": "https://localhost:8080/",
          "height": 822
        }
      },
      "source": [
        "# To visualize numerical data\n",
        "fig, ((ax1,ax2,ax3),(ax4,ax5,ax6)) = plt.subplots(2,3,figsize = (10,7))\n",
        "\n",
        "plt.suptitle('BAR GRAPHS')\n",
        "\n",
        "plt.xticks(rotation=90)\n",
        "sns.countplot(finances.COUNTRY, ax=ax1)\n",
        "sns.countplot(finances['BANK ACCOUNT'], ax=ax2)\n",
        "sns.countplot(finances['LOCATION'], ax=ax3)\n",
        "\n",
        "EDUCUATION = sns.countplot(finances['EDUCUATION'], ax=ax4)\n",
        "EDUCUATION.set_xticklabels(EDUCUATION.get_xticklabels(),rotation = 90)\n",
        "\n",
        "STATUS=sns.countplot(finances['STATUS'], ax=ax6)\n",
        "\n",
        "JOBTYPE=sns.countplot(finances['JOBTYPE'], ax=ax5)\n",
        "JOBTYPE.set_xticklabels(JOBTYPE.get_xticklabels(),rotation = 90)\n",
        "\n"
      ],
      "execution_count": 41,
      "outputs": [
        {
          "output_type": "execute_result",
          "data": {
            "text/plain": [
              "[Text(0, 0, 'self employed'),\n",
              " Text(0, 0, 'government dependent'),\n",
              " Text(0, 0, 'formally employed private'),\n",
              " Text(0, 0, 'informally employed'),\n",
              " Text(0, 0, 'formally employed government'),\n",
              " Text(0, 0, 'farming and fishing'),\n",
              " Text(0, 0, 'remittance dependent'),\n",
              " Text(0, 0, 'other income'),\n",
              " Text(0, 0, 'dont know/refuse to answer'),\n",
              " Text(0, 0, 'no income')]"
            ]
          },
          "metadata": {
            "tags": []
          },
          "execution_count": 41
        },
        {
          "output_type": "display_data",
          "data": {
            "image/png": "[encoded data removed]",
            "text/plain": [
              "<Figure size 720x504 with 6 Axes>"
            ]
          },
          "metadata": {
            "tags": [],
            "needs_background": "light"
          }
        }
      ]
    },
    {
      "cell_type": "code",
      "metadata": {
        "id": "G2Ow9S3bzJYB",
        "colab_type": "code",
        "outputId": "462ca534-602b-4ad0-8c0d-ea902b77c8ab",
        "colab": {
          "base_uri": "https://localhost:8080/",
          "height": 473
        }
      },
      "source": [
        "# To visualize categorical data\n",
        "\n",
        "fig, (ax4,ax5,ax6) = plt.subplots(1,3,figsize = (12,5))\n",
        "plt.suptitle('BAR GRAPHS')\n",
        "plt.xticks(rotation=90)\n",
        "sns.countplot(finances['PHONE'], ax=ax4)\n",
        "sns.countplot(finances['GENDER'], ax=ax5)\n",
        "sns.countplot(finances['HOUSEHIERACHY'], ax=ax6)"
      ],
      "execution_count": 42,
      "outputs": [
        {
          "output_type": "execute_result",
          "data": {
            "text/plain": [
              "<matplotlib.axes._subplots.AxesSubplot at 0x7f0cf57cf898>"
            ]
          },
          "metadata": {
            "tags": []
          },
          "execution_count": 42
        },
        {
          "output_type": "display_data",
          "data": {
            "image/png": "[encoded data removed]",
            "text/plain": [
              "<Figure size 864x360 with 3 Axes>"
            ]
          },
          "metadata": {
            "tags": [],
            "needs_background": "light"
          }
        }
      ]
    },
    {
      "cell_type": "code",
      "metadata": {
        "id": "dwYNnLqOz5et",
        "colab_type": "code",
        "outputId": "d002aeea-0cce-40b5-ad58-d915d669f659",
        "colab": {
          "base_uri": "https://localhost:8080/",
          "height": 126
        }
      },
      "source": [
        "#To check for skewness\n",
        "print(\"HOUSEHOLD SIZE SKEWNESS = \",finances['HOUSEHOLDSIZE'].skew())\n",
        "print(\"HOUSEHOLD SIZE KURTOSIS = \",finances['HOUSEHOLDSIZE'].kurt())\n",
        "print('\\n')\n",
        "print(\"AGE SKEWNESS = \",finances['AGE'].skew())\n",
        "print(\"AGE KURTOSIS = \",finances['AGE'].kurt())"
      ],
      "execution_count": 43,
      "outputs": [
        {
          "output_type": "stream",
          "text": [
            "HOUSEHOLD SIZE SKEWNESS =  0.9741827150450616\n",
            "HOUSEHOLD SIZE KURTOSIS =  1.1538357462528523\n",
            "\n",
            "\n",
            "AGE SKEWNESS =  0.8406145812311228\n",
            "AGE KURTOSIS =  0.09826807013177241\n"
          ],
          "name": "stdout"
        }
      ]
    },
    {
      "cell_type": "code",
      "metadata": {
        "id": "giNUZDRC9Kkj",
        "colab_type": "code",
        "outputId": "a0dfbc06-8bda-42c9-cf7c-c6e295dc79a9",
        "colab": {
          "base_uri": "https://localhost:8080/",
          "height": 1000
        }
      },
      "source": [
        "#  Frequency tables for categorical variables\n",
        "print('COUNTRY')\n",
        "print(finances.COUNTRY.value_counts())\n",
        "print(\"\\n\")\n",
        "print('YEAR')\n",
        "print(finances['YEAR'].value_counts())\n",
        "print(\"\\n\")\n",
        "print('BANK ACCOUNT ACCESS')\n",
        "print(finances['BANK ACCOUNT'].value_counts())\n",
        "print(\"\\n\")\n",
        "print('RESPONDENTS LOCATION')\n",
        "print(finances['LOCATION'].value_counts())\n",
        "print(\"\\n\")\n",
        "print('CELLPHONE ACCESS')\n",
        "print(finances['PHONE'].value_counts())\n",
        "print(\"\\n\")\n",
        "print('RESPONDENTS GENDER')\n",
        "print(finances['GENDER'].value_counts())\n",
        "print(\"\\n\")\n",
        "print('RESPONDENT RELATIONSHIP RELATION WITH HOUSEHEAD')\n",
        "print(finances['HOUSEHIERACHY'].value_counts())\n",
        "print(\"\\n\")\n",
        "print('MARITAL STATUS')\n",
        "print(finances['STATUS'].value_counts())\n",
        "print(\"\\n\")\n",
        "print('EDUCATION LEVEL')\n",
        "print(finances['EDUCUATION'].value_counts())\n",
        "print(\"\\n\")\n",
        "print('JOBTYPE')\n",
        "print(finances['JOBTYPE'].value_counts())"
      ],
      "execution_count": 44,
      "outputs": [
        {
          "output_type": "stream",
          "text": [
            "COUNTRY\n",
            "rwanda      8683\n",
            "tanzania    6500\n",
            "kenya       6062\n",
            "uganda      2095\n",
            "Name: COUNTRY, dtype: int64\n",
            "\n",
            "\n",
            "YEAR\n",
            "2016    8683\n",
            "2018    8157\n",
            "2017    6500\n",
            "Name: YEAR, dtype: int64\n",
            "\n",
            "\n",
            "BANK ACCOUNT ACCESS\n",
            "no     20044\n",
            "yes     3296\n",
            "Name: BANK ACCOUNT, dtype: int64\n",
            "\n",
            "\n",
            "RESPONDENTS LOCATION\n",
            "rural    14263\n",
            "urban     9077\n",
            "Name: LOCATION, dtype: int64\n",
            "\n",
            "\n",
            "CELLPHONE ACCESS\n",
            "yes    17331\n",
            "no      6009\n",
            "Name: PHONE, dtype: int64\n",
            "\n",
            "\n",
            "RESPONDENTS GENDER\n",
            "female    13766\n",
            "male       9574\n",
            "Name: GENDER, dtype: int64\n",
            "\n",
            "\n",
            "RESPONDENT RELATIONSHIP RELATION WITH HOUSEHEAD\n",
            "head of household      12729\n",
            "spouse                  6470\n",
            "child                   2221\n",
            "parent                  1069\n",
            "other relative           662\n",
            "other non-relatives      189\n",
            "Name: HOUSEHIERACHY, dtype: int64\n",
            "\n",
            "\n",
            "MARITAL STATUS\n",
            "married/living together    10698\n",
            "single/never married        7902\n",
            "widowed                     2683\n",
            "divorced/seperated          2049\n",
            "dont know                      8\n",
            "Name: STATUS, dtype: int64\n",
            "\n",
            "\n",
            "EDUCATION LEVEL\n",
            "primary education                  12688\n",
            "no formal education                 4467\n",
            "secondary education                 4206\n",
            "tertiary education                  1143\n",
            "vocational/specialised training      801\n",
            "6                                     27\n",
            "other/dont know/rta                    8\n",
            "Name: EDUCUATION, dtype: int64\n",
            "\n",
            "\n",
            "JOBTYPE\n",
            "self employed                   6361\n",
            "informally employed             5549\n",
            "farming and fishing             5422\n",
            "remittance dependent            2508\n",
            "other income                    1077\n",
            "formally employed private       1047\n",
            "no income                        618\n",
            "formally employed government     386\n",
            "government dependent             247\n",
            "dont know/refuse to answer       125\n",
            "Name: JOBTYPE, dtype: int64\n"
          ],
          "name": "stdout"
        }
      ]
    },
    {
      "cell_type": "markdown",
      "metadata": {
        "id": "_MXKelj09o7S",
        "colab_type": "text"
      },
      "source": [
        "BIVARIATE ANALYSIS"
      ]
    },
    {
      "cell_type": "code",
      "metadata": {
        "id": "63jrC4Lp9vQR",
        "colab_type": "code",
        "colab": {}
      },
      "source": [
        "# First, import our libraries\n",
        "!pip install researchpy\n",
        "import researchpy as rp"
      ],
      "execution_count": 0,
      "outputs": []
    },
    {
      "cell_type": "code",
      "metadata": {
        "id": "Zb5HQKII-EID",
        "colab_type": "code",
        "outputId": "11eca1fb-6efd-421d-9560-b0df520e0b31",
        "colab": {
          "base_uri": "https://localhost:8080/",
          "height": 381
        }
      },
      "source": [
        "# To analyse numeric data\n",
        "print('AGE ANALYSIS PER COUNTRY')\n",
        "print(round(rp.summary_cont(finances.groupby(['COUNTRY'])['AGE'])))\n",
        "print('\\n')\n",
        "print('HOUSEHOLDSIZE ANALYSIS PER COUNTRY')\n",
        "print(round(rp.summary_cont(finances.groupby(['COUNTRY'])['HOUSEHOLDSIZE'])))"
      ],
      "execution_count": 45,
      "outputs": [
        {
          "output_type": "stream",
          "text": [
            "AGE ANALYSIS PER COUNTRY\n",
            "\n",
            "\n",
            "             N  Mean    SD   SE  95% Conf.  Interval\n",
            "COUNTRY                                             \n",
            "kenya     6062  40.0  17.0  0.0       39.0      40.0\n",
            "rwanda    8683  39.0  16.0  0.0       39.0      40.0\n",
            "tanzania  6500  38.0  16.0  0.0       38.0      39.0\n",
            "uganda    2095  35.0  15.0  0.0       35.0      36.0\n",
            "\n",
            "\n",
            "HOUSEHOLDSIZE ANALYSIS PER COUNTRY\n",
            "\n",
            "\n",
            "             N  Mean   SD   SE  95% Conf.  Interval\n",
            "COUNTRY                                            \n",
            "kenya     6062   4.0  2.0  0.0        4.0       4.0\n",
            "rwanda    8683   4.0  2.0  0.0        4.0       5.0\n",
            "tanzania  6500   2.0  1.0  0.0        2.0       2.0\n",
            "uganda    2095   5.0  3.0  0.0        5.0       5.0\n"
          ],
          "name": "stdout"
        }
      ]
    },
    {
      "cell_type": "code",
      "metadata": {
        "id": "_mkdxtfRZxn6",
        "colab_type": "code",
        "colab": {
          "base_uri": "https://localhost:8080/",
          "height": 567
        },
        "outputId": "9571d33d-bb68-4dca-ee2d-f4e81ab2659f"
      },
      "source": [
        "# Ploting the bivariate summaries\n",
        "sns.pairplot(finances)\n",
        "plt.show()"
      ],
      "execution_count": 46,
      "outputs": [
        {
          "output_type": "display_data",
          "data": {
            "image/png": "[encoded data removed]",
            "text/plain": [
              "<Figure size 540x540 with 12 Axes>"
            ]
          },
          "metadata": {
            "tags": [],
            "needs_background": "light"
          }
        }
      ]
    },
    {
      "cell_type": "code",
      "metadata": {
        "id": "ammnoRbf_CwF",
        "colab_type": "code",
        "outputId": "d674522f-a640-474f-c814-d8054017403a",
        "colab": {
          "base_uri": "https://localhost:8080/",
          "height": 313
        }
      },
      "source": [
        "# To visualize gender against access to bank account\n",
        "finances.plot(x= 'AGE', y= 'HOUSEHOLDSIZE', kind = \"scatter\")\n",
        "plt.title(\"HOUSEHOLD SIZE AND AGE SCATTER PLOT\")\n"
      ],
      "execution_count": 47,
      "outputs": [
        {
          "output_type": "execute_result",
          "data": {
            "text/plain": [
              "Text(0.5, 1.0, 'HOUSEHOLD SIZE AND AGE SCATTER PLOT')"
            ]
          },
          "metadata": {
            "tags": []
          },
          "execution_count": 47
        },
        {
          "output_type": "display_data",
          "data": {
            "image/png": "[encoded data removed]",
            "text/plain": [
              "<Figure size 432x288 with 1 Axes>"
            ]
          },
          "metadata": {
            "tags": [],
            "needs_background": "light"
          }
        }
      ]
    },
    {
      "cell_type": "code",
      "metadata": {
        "id": "eH7ShLcf_WPe",
        "colab_type": "code",
        "outputId": "177d739d-289a-4e50-9833-3a9a7914d089",
        "colab": {
          "base_uri": "https://localhost:8080/",
          "height": 487
        }
      },
      "source": [
        "# To check the number of people with bank accounts compared to their education level\n",
        "education = finances[finances['BANK ACCOUNT']=='yes']\n",
        "education = education.groupby(['BANK ACCOUNT'])['EDUCUATION'].value_counts().plot(kind = \"bar\")\n",
        "plt.xticks(rotation = 90)\n",
        "plt.title('NUMBER OF PEOPLE WITH BANK ACCOUNTS COMPARED TO EDUCATION LEVEL')\n",
        "plt.xlabel('EDUCATION LEVEL')\n",
        "plt.ylabel('PEOPLE COUNT')\n",
        "\n",
        "# Bank account ownership increases with increase in level of education"
      ],
      "execution_count": 48,
      "outputs": [
        {
          "output_type": "execute_result",
          "data": {
            "text/plain": [
              "Text(0, 0.5, 'PEOPLE COUNT')"
            ]
          },
          "metadata": {
            "tags": []
          },
          "execution_count": 48
        },
        {
          "output_type": "display_data",
          "data": {
            "image/png": "[encoded data removed]",
            "text/plain": [
              "<Figure size 432x288 with 1 Axes>"
            ]
          },
          "metadata": {
            "tags": [],
            "needs_background": "light"
          }
        }
      ]
    },
    {
      "cell_type": "code",
      "metadata": {
        "id": "hgGKE1jiDdVM",
        "colab_type": "code",
        "outputId": "a05f61bf-15d7-4036-da31-c3526e37acbe",
        "colab": {
          "base_uri": "https://localhost:8080/",
          "height": 378
        }
      },
      "source": [
        "# To visualize the number of people with bank accounts per country\n",
        "countries = finances[finances['BANK ACCOUNT']=='yes']\n",
        "countries = countries.groupby(['COUNTRY'])['BANK ACCOUNT'].value_counts()\n",
        "countries.plot(kind = 'bar',stacked = True)\n",
        "plt.title('NUMBER OF PEOPLE WITH BANK ACCOUNTS PER COUNTRY')\n",
        "plt.xlabel('COUNTRY')\n",
        "plt.ylabel('PEOPLE COUNT')\n",
        "# Kenya has the highest number of people with bank accounts"
      ],
      "execution_count": 49,
      "outputs": [
        {
          "output_type": "execute_result",
          "data": {
            "text/plain": [
              "Text(0, 0.5, 'PEOPLE COUNT')"
            ]
          },
          "metadata": {
            "tags": []
          },
          "execution_count": 49
        },
        {
          "output_type": "display_data",
          "data": {
            "image/png": "[encoded data removed]",
            "text/plain": [
              "<Figure size 432x288 with 1 Axes>"
            ]
          },
          "metadata": {
            "tags": [],
            "needs_background": "light"
          }
        }
      ]
    },
    {
      "cell_type": "code",
      "metadata": {
        "id": "PV9HL7v-ENkd",
        "colab_type": "code",
        "outputId": "23023b2a-7de5-4598-e0af-6212c6acd1ec",
        "colab": {
          "base_uri": "https://localhost:8080/",
          "height": 360
        }
      },
      "source": [
        "# to check trend of bank accounts ownership over time\n",
        "\n",
        "time = finances[finances['BANK ACCOUNT']=='yes']\n",
        "time = time.groupby(['YEAR'])['BANK ACCOUNT'].value_counts().plot(kind = \"line\")\n",
        "plt.xticks(rotation = 90)\n",
        "plt.title('NUMBER OF PEOPLE WITH BANK ACCOUNTS PER YEAR')\n",
        "plt.xlabel('YEAR')\n",
        "plt.ylabel('PEOPLE COUNT')\n",
        "# bank account ownership has increased over time from 2017"
      ],
      "execution_count": 50,
      "outputs": [
        {
          "output_type": "execute_result",
          "data": {
            "text/plain": [
              "Text(0, 0.5, 'PEOPLE COUNT')"
            ]
          },
          "metadata": {
            "tags": []
          },
          "execution_count": 50
        },
        {
          "output_type": "display_data",
          "data": {
            "image/png": "[encoded data removed]",
            "text/plain": [
              "<Figure size 432x288 with 1 Axes>"
            ]
          },
          "metadata": {
            "tags": [],
            "needs_background": "light"
          }
        }
      ]
    },
    {
      "cell_type": "code",
      "metadata": {
        "id": "EnJSk1n2E6cy",
        "colab_type": "code",
        "outputId": "11f265ac-05fa-4bb8-b2ce-d8f78fe0d8e7",
        "colab": {
          "base_uri": "https://localhost:8080/",
          "height": 254
        }
      },
      "source": [
        "#To convert categorical data To numerical\n",
        "df = finances\n",
        "\n",
        "from sklearn.preprocessing import LabelEncoder\n",
        "Encoder = LabelEncoder()\n",
        "\n",
        "df['BANK ACCOUNT']= Encoder.fit_transform(df['BANK ACCOUNT'])\n",
        "df['PHONE']= Encoder.fit_transform(df['PHONE'])\n",
        "df['HOUSEHOLDSIZE']= Encoder.fit_transform(df['HOUSEHOLDSIZE'])\n",
        "df['AGE']= Encoder.fit_transform(df['AGE'])\n",
        "df['GENDER']= Encoder.fit_transform(df['GENDER'])\n",
        "df['HOUSEHIERACHY']= Encoder.fit_transform(df['HOUSEHIERACHY'])\n",
        "df['STATUS']= Encoder.fit_transform(df['STATUS'])\n",
        "df['EDUCUATION']= Encoder.fit_transform(df['EDUCUATION'])\n",
        "df['LOCATION']= Encoder.fit_transform(df['LOCATION'])\n",
        "df['JOBTYPE']= Encoder.fit_transform(df['JOBTYPE'])\n",
        "\n",
        "\n",
        "# and to confirm\n",
        "df.nunique()"
      ],
      "execution_count": 51,
      "outputs": [
        {
          "output_type": "execute_result",
          "data": {
            "text/plain": [
              "COUNTRY           4\n",
              "YEAR              3\n",
              "BANK ACCOUNT      2\n",
              "LOCATION          2\n",
              "PHONE             2\n",
              "HOUSEHOLDSIZE    21\n",
              "AGE              85\n",
              "GENDER            2\n",
              "HOUSEHIERACHY     6\n",
              "STATUS            5\n",
              "EDUCUATION        7\n",
              "JOBTYPE          10\n",
              "dtype: int64"
            ]
          },
          "metadata": {
            "tags": []
          },
          "execution_count": 51
        }
      ]
    },
    {
      "cell_type": "code",
      "metadata": {
        "id": "jwepgqFxFQDx",
        "colab_type": "code",
        "outputId": "b888e8b4-e67c-42fa-c0f2-4aa1c5f298df",
        "colab": {
          "base_uri": "https://localhost:8080/",
          "height": 493
        }
      },
      "source": [
        "# To visualize correlation between factors\n",
        "f , ax = plt.subplots(figsize = (10,6))\n",
        "corr = df.corr()\n",
        "cor = sns.heatmap(corr, annot = True, ax =ax , cmap = \"coolwarm\", fmt = '.2f',linewidths= .05)\n",
        "f.subplots_adjust(top =0.93)\n",
        "t = f.suptitle(' FINANCE VARIBALES CORRELATION')"
      ],
      "execution_count": 52,
      "outputs": [
        {
          "output_type": "display_data",
          "data": {
            "image/png": "[encoded data removed]",
            "text/plain": [
              "<Figure size 720x432 with 2 Axes>"
            ]
          },
          "metadata": {
            "tags": [],
            "needs_background": "light"
          }
        }
      ]
    },
    {
      "cell_type": "code",
      "metadata": {
        "id": "PLi-2-FZF0kO",
        "colab_type": "code",
        "outputId": "d1cfdac4-b29f-4982-af81-e705f3777133",
        "colab": {
          "base_uri": "https://localhost:8080/",
          "height": 35
        }
      },
      "source": [
        "# for Pearsons Coefficient\n",
        "persons_phone = df['BANK ACCOUNT'].corr(df['PHONE'], method='pearson')\n",
        "print(persons_phone)\n",
        "# The data has moderately positive correlation"
      ],
      "execution_count": 53,
      "outputs": [
        {
          "output_type": "stream",
          "text": [
            "0.2095118918266013\n"
          ],
          "name": "stdout"
        }
      ]
    },
    {
      "cell_type": "markdown",
      "metadata": {
        "id": "_iMvD8mLGZWx",
        "colab_type": "text"
      },
      "source": [
        "MULTIVARIATE ANALYSIS"
      ]
    },
    {
      "cell_type": "markdown",
      "metadata": {
        "id": "OD2z58pQbM5k",
        "colab_type": "text"
      },
      "source": [
        "Principal component analysis"
      ]
    },
    {
      "cell_type": "code",
      "metadata": {
        "id": "vquekPjWbRWJ",
        "colab_type": "code",
        "colab": {
          "base_uri": "https://localhost:8080/",
          "height": 198
        },
        "outputId": "02ec2066-951a-4219-dada-ff1c53092812"
      },
      "source": [
        "# To load our dataset\n",
        "finances.head()"
      ],
      "execution_count": 91,
      "outputs": [
        {
          "output_type": "execute_result",
          "data": {
            "text/html": [
              "<div>\n",
              "<style scoped>\n",
              "    .dataframe tbody tr th:only-of-type {\n",
              "        vertical-align: middle;\n",
              "    }\n",
              "\n",
              "    .dataframe tbody tr th {\n",
              "        vertical-align: top;\n",
              "    }\n",
              "\n",
              "    .dataframe thead th {\n",
              "        text-align: right;\n",
              "    }\n",
              "</style>\n",
              "<table border=\"1\" class=\"dataframe\">\n",
              "  <thead>\n",
              "    <tr style=\"text-align: right;\">\n",
              "      <th></th>\n",
              "      <th>COUNTRY</th>\n",
              "      <th>YEAR</th>\n",
              "      <th>BANK ACCOUNT</th>\n",
              "      <th>LOCATION</th>\n",
              "      <th>PHONE</th>\n",
              "      <th>HOUSEHOLDSIZE</th>\n",
              "      <th>AGE</th>\n",
              "      <th>GENDER</th>\n",
              "      <th>HOUSEHIERACHY</th>\n",
              "      <th>STATUS</th>\n",
              "      <th>EDUCUATION</th>\n",
              "      <th>JOBTYPE</th>\n",
              "    </tr>\n",
              "  </thead>\n",
              "  <tbody>\n",
              "    <tr>\n",
              "      <th>0</th>\n",
              "      <td>kenya</td>\n",
              "      <td>2018</td>\n",
              "      <td>1</td>\n",
              "      <td>0</td>\n",
              "      <td>1</td>\n",
              "      <td>3</td>\n",
              "      <td>8</td>\n",
              "      <td>0</td>\n",
              "      <td>5</td>\n",
              "      <td>2</td>\n",
              "      <td>4</td>\n",
              "      <td>9</td>\n",
              "    </tr>\n",
              "    <tr>\n",
              "      <th>1</th>\n",
              "      <td>kenya</td>\n",
              "      <td>2018</td>\n",
              "      <td>0</td>\n",
              "      <td>0</td>\n",
              "      <td>0</td>\n",
              "      <td>5</td>\n",
              "      <td>54</td>\n",
              "      <td>0</td>\n",
              "      <td>1</td>\n",
              "      <td>4</td>\n",
              "      <td>1</td>\n",
              "      <td>4</td>\n",
              "    </tr>\n",
              "    <tr>\n",
              "      <th>2</th>\n",
              "      <td>kenya</td>\n",
              "      <td>2018</td>\n",
              "      <td>1</td>\n",
              "      <td>1</td>\n",
              "      <td>1</td>\n",
              "      <td>5</td>\n",
              "      <td>10</td>\n",
              "      <td>1</td>\n",
              "      <td>3</td>\n",
              "      <td>3</td>\n",
              "      <td>6</td>\n",
              "      <td>9</td>\n",
              "    </tr>\n",
              "    <tr>\n",
              "      <th>3</th>\n",
              "      <td>kenya</td>\n",
              "      <td>2018</td>\n",
              "      <td>0</td>\n",
              "      <td>0</td>\n",
              "      <td>1</td>\n",
              "      <td>5</td>\n",
              "      <td>18</td>\n",
              "      <td>0</td>\n",
              "      <td>1</td>\n",
              "      <td>2</td>\n",
              "      <td>3</td>\n",
              "      <td>3</td>\n",
              "    </tr>\n",
              "    <tr>\n",
              "      <th>4</th>\n",
              "      <td>kenya</td>\n",
              "      <td>2018</td>\n",
              "      <td>0</td>\n",
              "      <td>1</td>\n",
              "      <td>0</td>\n",
              "      <td>8</td>\n",
              "      <td>10</td>\n",
              "      <td>1</td>\n",
              "      <td>0</td>\n",
              "      <td>3</td>\n",
              "      <td>3</td>\n",
              "      <td>5</td>\n",
              "    </tr>\n",
              "  </tbody>\n",
              "</table>\n",
              "</div>"
            ],
            "text/plain": [
              "  COUNTRY  YEAR  BANK ACCOUNT  ...  STATUS  EDUCUATION  JOBTYPE\n",
              "0   kenya  2018             1  ...       2           4        9\n",
              "1   kenya  2018             0  ...       4           1        4\n",
              "2   kenya  2018             1  ...       3           6        9\n",
              "3   kenya  2018             0  ...       2           3        3\n",
              "4   kenya  2018             0  ...       3           3        5\n",
              "\n",
              "[5 rows x 12 columns]"
            ]
          },
          "metadata": {
            "tags": []
          },
          "execution_count": 91
        }
      ]
    },
    {
      "cell_type": "code",
      "metadata": {
        "id": "YhRnyuwlbZGQ",
        "colab_type": "code",
        "colab": {}
      },
      "source": [
        "# Preprocessing\n",
        "X = df.drop('BANK ACCOUNT', 1)\n",
        "y = df['BANK ACCOUNT']"
      ],
      "execution_count": 0,
      "outputs": []
    },
    {
      "cell_type": "code",
      "metadata": {
        "id": "75bZPPvPdm-m",
        "colab_type": "code",
        "colab": {}
      },
      "source": [
        "X = df.drop('COUNTRY', 1)\n",
        "y = df['COUNTRY']"
      ],
      "execution_count": 0,
      "outputs": []
    },
    {
      "cell_type": "code",
      "metadata": {
        "id": "tW0RmtYDcpmf",
        "colab_type": "code",
        "colab": {}
      },
      "source": [
        "# Splitting into training and test\n",
        "from sklearn.model_selection import train_test_split\n",
        "\n",
        "X_train, X_test, y_train, y_test = train_test_split(X, y, test_size=0.2, random_state=0)"
      ],
      "execution_count": 0,
      "outputs": []
    },
    {
      "cell_type": "code",
      "metadata": {
        "id": "FnGgJXnKcqzx",
        "colab_type": "code",
        "colab": {}
      },
      "source": [
        "# Normalization\n",
        "from sklearn.preprocessing import StandardScaler\n",
        "\n",
        "sc = StandardScaler()\n",
        "X_train = sc.fit_transform(X_train)\n",
        "X_test = sc.transform(X_test)"
      ],
      "execution_count": 0,
      "outputs": []
    },
    {
      "cell_type": "code",
      "metadata": {
        "id": "gZID7ZiTcwiy",
        "colab_type": "code",
        "colab": {}
      },
      "source": [
        "# Applying PCA\n",
        "from sklearn.decomposition import PCA\n",
        "\n",
        "pca = PCA()\n",
        "X_train = pca.fit_transform(X_train)\n",
        "X_test = pca.transform(X_test)"
      ],
      "execution_count": 0,
      "outputs": []
    },
    {
      "cell_type": "code",
      "metadata": {
        "id": "xIfnp2KPc1AZ",
        "colab_type": "code",
        "colab": {
          "base_uri": "https://localhost:8080/",
          "height": 72
        },
        "outputId": "eebc511a-04cf-4160-84fb-e769db057fc3"
      },
      "source": [
        "# Explained variance\n",
        "explained_variance = pca.explained_variance_ratio_\n",
        "explained_variance"
      ],
      "execution_count": 69,
      "outputs": [
        {
          "output_type": "execute_result",
          "data": {
            "text/plain": [
              "array([0.16588233, 0.16202075, 0.14295584, 0.09876291, 0.08428713,\n",
              "       0.07843164, 0.0667471 , 0.06284873, 0.05277825, 0.04387468,\n",
              "       0.04141065])"
            ]
          },
          "metadata": {
            "tags": []
          },
          "execution_count": 69
        }
      ]
    },
    {
      "cell_type": "code",
      "metadata": {
        "id": "1u0crwSUc4cX",
        "colab_type": "code",
        "colab": {}
      },
      "source": [
        "# Using 1 Principal Component\n",
        "\n",
        "from sklearn.decomposition import PCA\n",
        "\n",
        "pca = PCA(n_components=1)\n",
        "X_train = pca.fit_transform(X_train)\n",
        "X_test = pca.transform(X_test)"
      ],
      "execution_count": 0,
      "outputs": []
    },
    {
      "cell_type": "code",
      "metadata": {
        "id": "0uwZf35Tc-MZ",
        "colab_type": "code",
        "colab": {}
      },
      "source": [
        "# Training and Making Predictions\n",
        "# In this case we'll use random forest classification for making the predictions.\n",
        "# \n",
        "from sklearn.ensemble import RandomForestClassifier\n",
        "\n",
        "classifier = RandomForestClassifier(max_depth=2, random_state=0)\n",
        "classifier.fit(X_train, y_train)\n",
        "\n",
        "# Predicting the Test set results\n",
        "y_pred = classifier.predict(X_test)"
      ],
      "execution_count": 0,
      "outputs": []
    },
    {
      "cell_type": "code",
      "metadata": {
        "id": "AAtNhbZgdDHh",
        "colab_type": "code",
        "colab": {
          "base_uri": "https://localhost:8080/",
          "height": 108
        },
        "outputId": "bb24bf66-d9b1-405c-e0c5-03c8b5edd212"
      },
      "source": [
        "# Performance Evaluation\n",
        "\n",
        "from sklearn.metrics import confusion_matrix\n",
        "from sklearn.metrics import accuracy_score\n",
        "\n",
        "cm = confusion_matrix(y_test, y_pred)\n",
        "print(cm)\n",
        "print('Accuracy' , accuracy_score(y_test, y_pred))"
      ],
      "execution_count": 72,
      "outputs": [
        {
          "output_type": "stream",
          "text": [
            "[[ 356  322  536    0]\n",
            " [  58 1275  443    0]\n",
            " [ 205  257  811    0]\n",
            " [  77   85  243    0]]\n",
            "Accuracy 0.5231362467866324\n"
          ],
          "name": "stdout"
        }
      ]
    },
    {
      "cell_type": "code",
      "metadata": {
        "id": "2vDDAPhadH-A",
        "colab_type": "code",
        "colab": {}
      },
      "source": [
        "# Results with 2 Principal Components\n",
        "#\n",
        "from sklearn.decomposition import PCA\n",
        "\n",
        "pca = PCA(n_components=0.5)\n",
        "X_train = pca.fit_transform(X_train)\n",
        "X_test = pca.transform(X_test)\n"
      ],
      "execution_count": 0,
      "outputs": []
    },
    {
      "cell_type": "code",
      "metadata": {
        "id": "rjg-KJrCdMCn",
        "colab_type": "code",
        "colab": {
          "base_uri": "https://localhost:8080/",
          "height": 163
        },
        "outputId": "50098ebd-2318-45e0-b6f4-e53dec476f5b"
      },
      "source": [
        "X_train, X_test, y_train, y_test = train_test_split(X, y, test_size=0.2, random_state=0)\n",
        "\n",
        "sc = StandardScaler()\n",
        "X_train = sc.fit_transform(X_train)\n",
        "X_test = sc.transform(X_test)\n",
        "\n",
        "pca = PCA(n_components=3)\n",
        "X_train = pca.fit_transform(X_train)\n",
        "X_test = pca.transform(X_test)\n",
        "\n",
        "# With three principal components the classification accuracy should again increase to 93.33%\n",
        "classifier = RandomForestClassifier(max_depth=2, random_state=0)\n",
        "classifier.fit(X_train, y_train)"
      ],
      "execution_count": 74,
      "outputs": [
        {
          "output_type": "execute_result",
          "data": {
            "text/plain": [
              "RandomForestClassifier(bootstrap=True, ccp_alpha=0.0, class_weight=None,\n",
              "                       criterion='gini', max_depth=2, max_features='auto',\n",
              "                       max_leaf_nodes=None, max_samples=None,\n",
              "                       min_impurity_decrease=0.0, min_impurity_split=None,\n",
              "                       min_samples_leaf=1, min_samples_split=2,\n",
              "                       min_weight_fraction_leaf=0.0, n_estimators=100,\n",
              "                       n_jobs=None, oob_score=False, random_state=0, verbose=0,\n",
              "                       warm_start=False)"
            ]
          },
          "metadata": {
            "tags": []
          },
          "execution_count": 74
        }
      ]
    },
    {
      "cell_type": "code",
      "metadata": {
        "id": "Y8rQEbvgdPNj",
        "colab_type": "code",
        "colab": {
          "base_uri": "https://localhost:8080/",
          "height": 108
        },
        "outputId": "a1e3ee7d-99dc-495e-a076-e0aded2c31fc"
      },
      "source": [
        "# Predicting the Test set results\n",
        "y_pred = classifier.predict(X_test)\n",
        "\n",
        "cm = confusion_matrix(y_test, y_pred)\n",
        "print(cm)\n",
        "print('Accuracy' , accuracy_score(y_test, y_pred))"
      ],
      "execution_count": 75,
      "outputs": [
        {
          "output_type": "stream",
          "text": [
            "[[ 157  643  414    0]\n",
            " [  16 1697   63    0]\n",
            " [  64  243  966    0]\n",
            " [  87  146  172    0]]\n",
            "Accuracy 0.6041131105398457\n"
          ],
          "name": "stdout"
        }
      ]
    },
    {
      "cell_type": "markdown",
      "metadata": {
        "id": "dKpF3uLweRH3",
        "colab_type": "text"
      },
      "source": [
        "Our accuracy is 60%"
      ]
    },
    {
      "cell_type": "markdown",
      "metadata": {
        "id": "q25DY3UjfGWP",
        "colab_type": "text"
      },
      "source": [
        "LDA"
      ]
    },
    {
      "cell_type": "code",
      "metadata": {
        "id": "krHCYVsBfMLv",
        "colab_type": "code",
        "colab": {
          "base_uri": "https://localhost:8080/",
          "height": 198
        },
        "outputId": "2fd93a3b-c033-4d64-92d7-77b913a48f9b"
      },
      "source": [
        "# To preview our dataset\n",
        "finances.head()"
      ],
      "execution_count": 96,
      "outputs": [
        {
          "output_type": "execute_result",
          "data": {
            "text/html": [
              "<div>\n",
              "<style scoped>\n",
              "    .dataframe tbody tr th:only-of-type {\n",
              "        vertical-align: middle;\n",
              "    }\n",
              "\n",
              "    .dataframe tbody tr th {\n",
              "        vertical-align: top;\n",
              "    }\n",
              "\n",
              "    .dataframe thead th {\n",
              "        text-align: right;\n",
              "    }\n",
              "</style>\n",
              "<table border=\"1\" class=\"dataframe\">\n",
              "  <thead>\n",
              "    <tr style=\"text-align: right;\">\n",
              "      <th></th>\n",
              "      <th>COUNTRY</th>\n",
              "      <th>YEAR</th>\n",
              "      <th>BANK ACCOUNT</th>\n",
              "      <th>LOCATION</th>\n",
              "      <th>PHONE</th>\n",
              "      <th>HOUSEHOLDSIZE</th>\n",
              "      <th>AGE</th>\n",
              "      <th>GENDER</th>\n",
              "      <th>HOUSEHIERACHY</th>\n",
              "      <th>STATUS</th>\n",
              "      <th>EDUCUATION</th>\n",
              "      <th>JOBTYPE</th>\n",
              "    </tr>\n",
              "  </thead>\n",
              "  <tbody>\n",
              "    <tr>\n",
              "      <th>0</th>\n",
              "      <td>kenya</td>\n",
              "      <td>2018</td>\n",
              "      <td>1</td>\n",
              "      <td>0</td>\n",
              "      <td>1</td>\n",
              "      <td>3</td>\n",
              "      <td>8</td>\n",
              "      <td>0</td>\n",
              "      <td>5</td>\n",
              "      <td>2</td>\n",
              "      <td>4</td>\n",
              "      <td>9</td>\n",
              "    </tr>\n",
              "    <tr>\n",
              "      <th>1</th>\n",
              "      <td>kenya</td>\n",
              "      <td>2018</td>\n",
              "      <td>0</td>\n",
              "      <td>0</td>\n",
              "      <td>0</td>\n",
              "      <td>5</td>\n",
              "      <td>54</td>\n",
              "      <td>0</td>\n",
              "      <td>1</td>\n",
              "      <td>4</td>\n",
              "      <td>1</td>\n",
              "      <td>4</td>\n",
              "    </tr>\n",
              "    <tr>\n",
              "      <th>2</th>\n",
              "      <td>kenya</td>\n",
              "      <td>2018</td>\n",
              "      <td>1</td>\n",
              "      <td>1</td>\n",
              "      <td>1</td>\n",
              "      <td>5</td>\n",
              "      <td>10</td>\n",
              "      <td>1</td>\n",
              "      <td>3</td>\n",
              "      <td>3</td>\n",
              "      <td>6</td>\n",
              "      <td>9</td>\n",
              "    </tr>\n",
              "    <tr>\n",
              "      <th>3</th>\n",
              "      <td>kenya</td>\n",
              "      <td>2018</td>\n",
              "      <td>0</td>\n",
              "      <td>0</td>\n",
              "      <td>1</td>\n",
              "      <td>5</td>\n",
              "      <td>18</td>\n",
              "      <td>0</td>\n",
              "      <td>1</td>\n",
              "      <td>2</td>\n",
              "      <td>3</td>\n",
              "      <td>3</td>\n",
              "    </tr>\n",
              "    <tr>\n",
              "      <th>4</th>\n",
              "      <td>kenya</td>\n",
              "      <td>2018</td>\n",
              "      <td>0</td>\n",
              "      <td>1</td>\n",
              "      <td>0</td>\n",
              "      <td>8</td>\n",
              "      <td>10</td>\n",
              "      <td>1</td>\n",
              "      <td>0</td>\n",
              "      <td>3</td>\n",
              "      <td>3</td>\n",
              "      <td>5</td>\n",
              "    </tr>\n",
              "  </tbody>\n",
              "</table>\n",
              "</div>"
            ],
            "text/plain": [
              "  COUNTRY  YEAR  BANK ACCOUNT  ...  STATUS  EDUCUATION  JOBTYPE\n",
              "0   kenya  2018             1  ...       2           4        9\n",
              "1   kenya  2018             0  ...       4           1        4\n",
              "2   kenya  2018             1  ...       3           6        9\n",
              "3   kenya  2018             0  ...       2           3        3\n",
              "4   kenya  2018             0  ...       3           3        5\n",
              "\n",
              "[5 rows x 12 columns]"
            ]
          },
          "metadata": {
            "tags": []
          },
          "execution_count": 96
        }
      ]
    },
    {
      "cell_type": "code",
      "metadata": {
        "id": "YMYZV-dafg1X",
        "colab_type": "code",
        "colab": {}
      },
      "source": [
        "# Dropping unecessary columns\n",
        "df.drop([\"COUNTRY\", \"YEAR\", \"STATUS\", \"EDUCUATION\", \"JOBTYPE\"],axis=1,inplace=True)"
      ],
      "execution_count": 0,
      "outputs": []
    },
    {
      "cell_type": "code",
      "metadata": {
        "id": "3y4cmkCWgBm4",
        "colab_type": "code",
        "colab": {
          "base_uri": "https://localhost:8080/",
          "height": 35
        },
        "outputId": "54f05287-7aad-40da-b74f-c8adeabb8519"
      },
      "source": [
        "# Dropping null values\n",
        "df.dropna(inplace=True)\n",
        "# Checking for null values\n",
        "df.isnull().values.any()"
      ],
      "execution_count": 99,
      "outputs": [
        {
          "output_type": "execute_result",
          "data": {
            "text/plain": [
              "False"
            ]
          },
          "metadata": {
            "tags": []
          },
          "execution_count": 99
        }
      ]
    },
    {
      "cell_type": "code",
      "metadata": {
        "id": "ZpXvPPAsgIMP",
        "colab_type": "code",
        "colab": {}
      },
      "source": [
        "X = df.drop('BANK ACCOUNT', 1)\n",
        "y = df['BANK ACCOUNT']"
      ],
      "execution_count": 0,
      "outputs": []
    },
    {
      "cell_type": "code",
      "metadata": {
        "id": "-dpxXbBigUIj",
        "colab_type": "code",
        "colab": {}
      },
      "source": [
        "# divide data into training and test sets\n",
        "#\n",
        "from sklearn.model_selection import train_test_split\n",
        "X_train, X_test, y_train, y_test = train_test_split(X, y, test_size=0.2, random_state=0)"
      ],
      "execution_count": 0,
      "outputs": []
    },
    {
      "cell_type": "code",
      "metadata": {
        "id": "Wuo7RyIlgXio",
        "colab_type": "code",
        "colab": {}
      },
      "source": [
        "# Performing LDA\n",
        "from sklearn.discriminant_analysis import LinearDiscriminantAnalysis as LDA\n",
        "lda = LDA(n_components=1)\n",
        "X_train = lda.fit_transform(X_train, y_train)\n",
        "X_test = lda.transform(X_test)"
      ],
      "execution_count": 0,
      "outputs": []
    },
    {
      "cell_type": "code",
      "metadata": {
        "id": "s5zB2j70ganK",
        "colab_type": "code",
        "colab": {}
      },
      "source": [
        "# Training and Making Predictions\n",
        "\n",
        "\n",
        "from sklearn.ensemble import RandomForestClassifier\n",
        "\n",
        "classifier = RandomForestClassifier(max_depth=2, random_state=0)\n",
        "classifier.fit(X_train, y_train)\n",
        "y_pred = classifier.predict(X_test)"
      ],
      "execution_count": 0,
      "outputs": []
    },
    {
      "cell_type": "code",
      "metadata": {
        "id": "C_LEEh1CgfZU",
        "colab_type": "code",
        "colab": {
          "base_uri": "https://localhost:8080/",
          "height": 72
        },
        "outputId": "1ce69a26-f5b5-4d24-cbde-0f425f13fcaf"
      },
      "source": [
        "# Evaluate performance\n",
        "from sklearn.metrics import confusion_matrix\n",
        "from sklearn.metrics import accuracy_score\n",
        "\n",
        "cm = confusion_matrix(y_test, y_pred)\n",
        "print(cm)\n",
        "print('Accuracy' + str(accuracy_score(y_test, y_pred)))"
      ],
      "execution_count": 104,
      "outputs": [
        {
          "output_type": "stream",
          "text": [
            "[[4036    0]\n",
            " [ 632    0]]\n",
            "Accuracy0.8646101113967438\n"
          ],
          "name": "stdout"
        }
      ]
    },
    {
      "cell_type": "markdown",
      "metadata": {
        "id": "7w-g6-nmgpre",
        "colab_type": "text"
      },
      "source": [
        "Accuracy is 86.46%."
      ]
    },
    {
      "cell_type": "markdown",
      "metadata": {
        "id": "RJTe8PS4gvtV",
        "colab_type": "text"
      },
      "source": [
        "FACTOR ANALYSIS"
      ]
    },
    {
      "cell_type": "code",
      "metadata": {
        "id": "LQqG6qAAg2TM",
        "colab_type": "code",
        "colab": {
          "base_uri": "https://localhost:8080/",
          "height": 365
        },
        "outputId": "692aa37c-7d17-43da-bad3-fc9edaa091ec"
      },
      "source": [
        "# Installing factor analyzer \n",
        "pip install factor-analyzer==0.3.2"
      ],
      "execution_count": 109,
      "outputs": [
        {
          "output_type": "stream",
          "text": [
            "Collecting factor-analyzer==0.3.2\n",
            "\u001b[?25l  Downloading https://files.pythonhosted.org/packages/44/b5/cbd83484ca6dd4c6562c6d66a6a3a0ecf526e79b2b575b9fb4bf5ad172dd/factor_analyzer-0.3.2.tar.gz (40kB)\n",
            "\r\u001b[K     |████████▏                       | 10kB 15.5MB/s eta 0:00:01\r\u001b[K     |████████████████▍               | 20kB 3.2MB/s eta 0:00:01\r\u001b[K     |████████████████████████▌       | 30kB 3.9MB/s eta 0:00:01\r\u001b[K     |████████████████████████████████| 40kB 2.3MB/s \n",
            "\u001b[?25hRequirement already satisfied: pandas in /usr/local/lib/python3.6/dist-packages (from factor-analyzer==0.3.2) (1.0.3)\n",
            "Requirement already satisfied: scipy in /usr/local/lib/python3.6/dist-packages (from factor-analyzer==0.3.2) (1.4.1)\n",
            "Requirement already satisfied: numpy in /usr/local/lib/python3.6/dist-packages (from factor-analyzer==0.3.2) (1.18.4)\n",
            "Requirement already satisfied: scikit-learn in /usr/local/lib/python3.6/dist-packages (from factor-analyzer==0.3.2) (0.22.2.post1)\n",
            "Requirement already satisfied: pytz>=2017.2 in /usr/local/lib/python3.6/dist-packages (from pandas->factor-analyzer==0.3.2) (2018.9)\n",
            "Requirement already satisfied: python-dateutil>=2.6.1 in /usr/local/lib/python3.6/dist-packages (from pandas->factor-analyzer==0.3.2) (2.8.1)\n",
            "Requirement already satisfied: joblib>=0.11 in /usr/local/lib/python3.6/dist-packages (from scikit-learn->factor-analyzer==0.3.2) (0.15.0)\n",
            "Requirement already satisfied: six>=1.5 in /usr/local/lib/python3.6/dist-packages (from python-dateutil>=2.6.1->pandas->factor-analyzer==0.3.2) (1.12.0)\n",
            "Building wheels for collected packages: factor-analyzer\n",
            "  Building wheel for factor-analyzer (setup.py) ... \u001b[?25l\u001b[?25hdone\n",
            "  Created wheel for factor-analyzer: filename=factor_analyzer-0.3.2-cp36-none-any.whl size=40380 sha256=0b09043b1e84df0abebac1919f7a0b14f59ace825ebb300e0a6ed9c0340cc8d7\n",
            "  Stored in directory: /root/.cache/pip/wheels/4a/d0/57/f1330cb9c80e82d8d05391c74c94ed61ce3f03bf6157f3d6db\n",
            "Successfully built factor-analyzer\n",
            "Installing collected packages: factor-analyzer\n",
            "Successfully installed factor-analyzer-0.3.2\n"
          ],
          "name": "stdout"
        }
      ]
    },
    {
      "cell_type": "code",
      "metadata": {
        "id": "3j8cqtqOiRlC",
        "colab_type": "code",
        "colab": {
          "base_uri": "https://localhost:8080/",
          "height": 198
        },
        "outputId": "125050d6-62fc-4203-b951-111d34b56cb5"
      },
      "source": [
        "# To preview our dataset\n",
        "finances.head()"
      ],
      "execution_count": 110,
      "outputs": [
        {
          "output_type": "execute_result",
          "data": {
            "text/html": [
              "<div>\n",
              "<style scoped>\n",
              "    .dataframe tbody tr th:only-of-type {\n",
              "        vertical-align: middle;\n",
              "    }\n",
              "\n",
              "    .dataframe tbody tr th {\n",
              "        vertical-align: top;\n",
              "    }\n",
              "\n",
              "    .dataframe thead th {\n",
              "        text-align: right;\n",
              "    }\n",
              "</style>\n",
              "<table border=\"1\" class=\"dataframe\">\n",
              "  <thead>\n",
              "    <tr style=\"text-align: right;\">\n",
              "      <th></th>\n",
              "      <th>BANK ACCOUNT</th>\n",
              "      <th>LOCATION</th>\n",
              "      <th>PHONE</th>\n",
              "      <th>HOUSEHOLDSIZE</th>\n",
              "      <th>AGE</th>\n",
              "      <th>GENDER</th>\n",
              "      <th>HOUSEHIERACHY</th>\n",
              "    </tr>\n",
              "  </thead>\n",
              "  <tbody>\n",
              "    <tr>\n",
              "      <th>0</th>\n",
              "      <td>1</td>\n",
              "      <td>0</td>\n",
              "      <td>1</td>\n",
              "      <td>3</td>\n",
              "      <td>8</td>\n",
              "      <td>0</td>\n",
              "      <td>5</td>\n",
              "    </tr>\n",
              "    <tr>\n",
              "      <th>1</th>\n",
              "      <td>0</td>\n",
              "      <td>0</td>\n",
              "      <td>0</td>\n",
              "      <td>5</td>\n",
              "      <td>54</td>\n",
              "      <td>0</td>\n",
              "      <td>1</td>\n",
              "    </tr>\n",
              "    <tr>\n",
              "      <th>2</th>\n",
              "      <td>1</td>\n",
              "      <td>1</td>\n",
              "      <td>1</td>\n",
              "      <td>5</td>\n",
              "      <td>10</td>\n",
              "      <td>1</td>\n",
              "      <td>3</td>\n",
              "    </tr>\n",
              "    <tr>\n",
              "      <th>3</th>\n",
              "      <td>0</td>\n",
              "      <td>0</td>\n",
              "      <td>1</td>\n",
              "      <td>5</td>\n",
              "      <td>18</td>\n",
              "      <td>0</td>\n",
              "      <td>1</td>\n",
              "    </tr>\n",
              "    <tr>\n",
              "      <th>4</th>\n",
              "      <td>0</td>\n",
              "      <td>1</td>\n",
              "      <td>0</td>\n",
              "      <td>8</td>\n",
              "      <td>10</td>\n",
              "      <td>1</td>\n",
              "      <td>0</td>\n",
              "    </tr>\n",
              "  </tbody>\n",
              "</table>\n",
              "</div>"
            ],
            "text/plain": [
              "   BANK ACCOUNT  LOCATION  PHONE  HOUSEHOLDSIZE  AGE  GENDER  HOUSEHIERACHY\n",
              "0             1         0      1              3    8       0              5\n",
              "1             0         0      0              5   54       0              1\n",
              "2             1         1      1              5   10       1              3\n",
              "3             0         0      1              5   18       0              1\n",
              "4             0         1      0              8   10       1              0"
            ]
          },
          "metadata": {
            "tags": []
          },
          "execution_count": 110
        }
      ]
    },
    {
      "cell_type": "code",
      "metadata": {
        "id": "q3nKdf9YijPQ",
        "colab_type": "code",
        "colab": {}
      },
      "source": [
        "# Dropping unecessary columns\n",
        "df.drop([\"BANK ACCOUNT\", \"HOUSEHIERACHY\"],axis=1,inplace=True)"
      ],
      "execution_count": 0,
      "outputs": []
    },
    {
      "cell_type": "code",
      "metadata": {
        "id": "tv5OmPIUi4xI",
        "colab_type": "code",
        "colab": {
          "base_uri": "https://localhost:8080/",
          "height": 35
        },
        "outputId": "8b78ce87-455c-4bc4-953f-a40c6bcd5905"
      },
      "source": [
        "# Adequacy test\n",
        "# - Bartlett’s Test\n",
        "\n",
        "# Installing factor analyzer\n",
        "from factor_analyzer.factor_analyzer import calculate_bartlett_sphericity\n",
        "\n",
        "chi_square_value,p_value=calculate_bartlett_sphericity(df)\n",
        "chi_square_value, p_value\n",
        "# the p-value is 0, so test was statistically significant, \n",
        "#  observed correlation matrix is not an identity matrix."
      ],
      "execution_count": 112,
      "outputs": [
        {
          "output_type": "execute_result",
          "data": {
            "text/plain": [
              "(3143.1677774556165, 0.0)"
            ]
          },
          "metadata": {
            "tags": []
          },
          "execution_count": 112
        }
      ]
    },
    {
      "cell_type": "code",
      "metadata": {
        "id": "bf5_EY5bi9dJ",
        "colab_type": "code",
        "colab": {
          "base_uri": "https://localhost:8080/",
          "height": 54
        },
        "outputId": "eeb76fd9-e24f-4c68-a77f-94c91ed17eb6"
      },
      "source": [
        "# - Kaiser-Meyer-Olkin Test\n",
        "from factor_analyzer.factor_analyzer import calculate_kmo\n",
        "\n",
        "kmo_all,kmo_model=calculate_kmo(df)\n",
        "kmo_all,kmo_model\n",
        "# values are less than 0.6 hence they are  inadequate"
      ],
      "execution_count": 113,
      "outputs": [
        {
          "output_type": "execute_result",
          "data": {
            "text/plain": [
              "(array([0.48350045, 0.55721906, 0.50351553, 0.43134027, 0.46670542]),\n",
              " 0.4934198057481073)"
            ]
          },
          "metadata": {
            "tags": []
          },
          "execution_count": 113
        }
      ]
    },
    {
      "cell_type": "code",
      "metadata": {
        "id": "Zo9mR3pajMlx",
        "colab_type": "code",
        "colab": {
          "base_uri": "https://localhost:8080/",
          "height": 244
        },
        "outputId": "2f5f8af2-21a5-42a2-e17e-b325c862a00a"
      },
      "source": [
        "# Choosing the Number of Factors\n",
        "\n",
        "# Creating factor analysis object and perform factor analysis\n",
        "# fa = FactorAnalyzer()\n",
        "factor_analyzer.analyze(finances,5 , rotation=None)\n",
        "\n",
        "# Checking the Eigenvalues\n",
        "ev, v = fa.get_eigenvalues()\n",
        "ev\n",
        "# We will take the first three factors as their eigenvalues are greater than one"
      ],
      "execution_count": 120,
      "outputs": [
        {
          "output_type": "error",
          "ename": "NameError",
          "evalue": "ignored",
          "traceback": [
            "\u001b[0;31m---------------------------------------------------------------------------\u001b[0m",
            "\u001b[0;31mNameError\u001b[0m                                 Traceback (most recent call last)",
            "\u001b[0;32m<ipython-input-120-af979c363ae2>\u001b[0m in \u001b[0;36m<module>\u001b[0;34m()\u001b[0m\n\u001b[1;32m      3\u001b[0m \u001b[0;31m# Creating factor analysis object and perform factor analysis\u001b[0m\u001b[0;34m\u001b[0m\u001b[0;34m\u001b[0m\u001b[0;34m\u001b[0m\u001b[0m\n\u001b[1;32m      4\u001b[0m \u001b[0;31m# fa = FactorAnalyzer()\u001b[0m\u001b[0;34m\u001b[0m\u001b[0;34m\u001b[0m\u001b[0;34m\u001b[0m\u001b[0m\n\u001b[0;32m----> 5\u001b[0;31m \u001b[0mfactor_analyzer\u001b[0m\u001b[0;34m.\u001b[0m\u001b[0manalyze\u001b[0m\u001b[0;34m(\u001b[0m\u001b[0mfinances\u001b[0m\u001b[0;34m,\u001b[0m\u001b[0;36m5\u001b[0m \u001b[0;34m,\u001b[0m \u001b[0mrotation\u001b[0m\u001b[0;34m=\u001b[0m\u001b[0;32mNone\u001b[0m\u001b[0;34m)\u001b[0m\u001b[0;34m\u001b[0m\u001b[0;34m\u001b[0m\u001b[0m\n\u001b[0m\u001b[1;32m      6\u001b[0m \u001b[0;34m\u001b[0m\u001b[0m\n\u001b[1;32m      7\u001b[0m \u001b[0;31m# Checking the Eigenvalues\u001b[0m\u001b[0;34m\u001b[0m\u001b[0;34m\u001b[0m\u001b[0;34m\u001b[0m\u001b[0m\n",
            "\u001b[0;31mNameError\u001b[0m: name 'factor_analyzer' is not defined"
          ]
        }
      ]
    }
  ]
}